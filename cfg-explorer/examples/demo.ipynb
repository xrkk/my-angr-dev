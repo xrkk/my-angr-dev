{
 "cells": [
  {
   "cell_type": "markdown",
   "metadata": {},
   "source": [
    "# Demo for functional usage of CFG-explorer\n",
    "\n",
    "Now, `cfg-explorer` can not only be used as a command line tool. We can also call it within a Python program.\n",
    "\n",
    "## Download Spec CPU Benchmark 2006\n",
    "\n",
    "Save the suite outside our current repository:\n",
    "\n",
    "```\n",
    "$ cd ..\n",
    "$ git clone https://github.com/Multi2Sim/m2s-bench-spec2006\n",
    "```\n",
    "\n",
    "Every `.i386` file is a binary file for testing.\n",
    "\n",
    "To demonstrate, an sample [`specrand_base.i386`](./specrand_base.i386) is copied to current path.\n",
    "\n",
    "## Import Libraries\n",
    "\n",
    "If you have not installed `cfg_exploerer` module, you can install it with\n",
    "\n",
    "```\n",
    "$ pip install cfg_explorer\n",
    "```\n",
    "\n",
    "Of course, If you just want to try it without installation, it's Okay:\n",
    "\n",
    "First, to import `cfg_explore` in this subdirectory, you should include your `cfg-explorer` path into your `PATH` environment variable. You can do this by (suppose the whole `cfg-explorer` directory is located in `$HOME/cfg-explorer`):\n",
    "\n",
    "```\n",
    "$ export PATH=$HOME/cfg-explorer:$PATH\n",
    "```\n",
    "\n",
    "Or import it in this notebook by such an approach for that the target folder is actually the parent folder of this file:"
   ]
  },
  {
   "cell_type": "code",
   "execution_count": 1,
   "metadata": {
    "ExecuteTime": {
     "end_time": "2020-08-08T00:29:59.686303Z",
     "start_time": "2020-08-08T00:29:59.679541Z"
    }
   },
   "outputs": [],
   "source": [
    "import os\n",
    "import sys\n",
    "from pathlib import Path\n",
    "\n",
    "sys.path.insert(0,str(Path().resolve().parent))"
   ]
  },
  {
   "cell_type": "markdown",
   "metadata": {},
   "source": [
    "##  Usages of `cfg_explore` Function"
   ]
  },
  {
   "cell_type": "code",
   "execution_count": 2,
   "metadata": {
    "ExecuteTime": {
     "end_time": "2020-08-08T00:30:02.613944Z",
     "start_time": "2020-08-08T00:30:00.974303Z"
    },
    "scrolled": true
   },
   "outputs": [],
   "source": [
    "from cfgexplorer import cfg_explore"
   ]
  },
  {
   "cell_type": "markdown",
   "metadata": {},
   "source": [
    "### Lanuch an interactive web app\n",
    "\n",
    "Now, call `cfg_explore` with the only argument `binary`, which is the path of the bianry file we prepare to analysis. After running, it will host a website on http://127.0.0.1:5050/ to show the *control flow graph* of the file. You can specify the port by `port` parameter."
   ]
  },
  {
   "cell_type": "code",
   "execution_count": 3,
   "metadata": {
    "ExecuteTime": {
     "end_time": "2020-08-08T00:30:07.091118Z",
     "start_time": "2020-08-08T00:30:04.960790Z"
    }
   },
   "outputs": [
    {
     "output_type": "stream",
     "name": "stderr",
     "text": [
      "WARNING | 2021-02-24 17:53:21,073 | \u001b[34mangr.analyses.cfg.cfg_fast\u001b[0m | \u001b[34m\"collect_data_references\" is deprecated and will be removed soon. Please use \"data_references\" instead\u001b[0m\n",
      "WARNING | 2021-02-24 17:53:21,076 | \u001b[32mangr.storage.memory_mixins.default_filler_mixin\u001b[0m | \u001b[32mThe program is accessing memory or registers with an unspecified value. This could indicate unwanted behavior.\u001b[0m\n",
      "WARNING | 2021-02-24 17:53:21,076 | \u001b[32mangr.storage.memory_mixins.default_filler_mixin\u001b[0m | \u001b[32mangr will cope with this by generating an unconstrained symbolic variable and continuing. You can resolve this by:\u001b[0m\n",
      "WARNING | 2021-02-24 17:53:21,077 | \u001b[32mangr.storage.memory_mixins.default_filler_mixin\u001b[0m | \u001b[32m1) setting a value to the initial state\u001b[0m\n",
      "WARNING | 2021-02-24 17:53:21,079 | \u001b[32mangr.storage.memory_mixins.default_filler_mixin\u001b[0m | \u001b[32m2) adding the state option ZERO_FILL_UNCONSTRAINED_{MEMORY,REGISTERS}, to make unknown regions hold null\u001b[0m\n",
      "WARNING | 2021-02-24 17:53:21,079 | \u001b[32mangr.storage.memory_mixins.default_filler_mixin\u001b[0m | \u001b[32m3) adding the state option SYMBOL_FILL_UNCONSTRAINED_{MEMORY,REGISTERS}, to suppress these messages.\u001b[0m\n",
      "WARNING | 2021-02-24 17:53:21,080 | \u001b[32mangr.storage.memory_mixins.default_filler_mixin\u001b[0m | \u001b[32mFilling register es with 4 unconstrained bytes referenced from 0x0 (not part of a loaded object)\u001b[0m\n",
      "WARNING | 2021-02-24 17:53:21,082 | \u001b[32mangr.storage.memory_mixins.default_filler_mixin\u001b[0m | \u001b[32mFilling register gs with 4 unconstrained bytes referenced from 0x0 (not part of a loaded object)\u001b[0m\n",
      "N/A% |                                   | Elapsed Time: 0:00:00 ETA:  --:--:--WARNING | 2021-02-24 17:53:21,142 | \u001b[32mangr.storage.memory_mixins.default_filler_mixin\u001b[0m | \u001b[32mFilling register eax with 4 unconstrained bytes referenced from 0x80484fb (_start+0x8 in specrand_base.i386 (0x80484fb))\u001b[0m\n",
      "WARNING | 2021-02-24 17:53:21,144 | \u001b[32mangr.storage.memory_mixins.default_filler_mixin\u001b[0m | \u001b[32mFilling register edx with 4 unconstrained bytes referenced from 0x80484fd (_start+0xa in specrand_base.i386 (0x80484fd))\u001b[0m\n",
      "100% |###################################| Elapsed Time: 0:00:00 Time:  0:00:00\n",
      " * Serving Flask app \"cfgexplorer.explorer\" (lazy loading)\n",
      " * Environment: production\n",
      "\u001b[31m   WARNING: This is a development server. Do not use it in a production deployment.\u001b[0m\n",
      "\u001b[2m   Use a production WSGI server instead.\u001b[0m\n",
      " * Debug mode: on\n",
      "INFO    | 2021-02-24 17:53:21,235 | \u001b[33mwerkzeug\u001b[0m | \u001b[33m * Running on http://127.0.0.1:5000/ (Press CTRL+C to quit)\u001b[0m\n",
      "INFO    | 2021-02-24 17:53:37,765 | \u001b[33mwerkzeug\u001b[0m | \u001b[33m127.0.0.1 - - [24/Feb/2021 17:53:37] \"\u001b[37mGET / HTTP/1.1\u001b[0m\" 200 -\u001b[0m\n",
      "INFO    | 2021-02-24 17:53:37,909 | \u001b[33mwerkzeug\u001b[0m | \u001b[33m127.0.0.1 - - [24/Feb/2021 17:53:37] \"\u001b[37mGET /js/svg-pan-zoom.js HTTP/1.1\u001b[0m\" 200 -\u001b[0m\n",
      "INFO    | 2021-02-24 17:53:38,141 | \u001b[33mwerkzeug\u001b[0m | \u001b[33m127.0.0.1 - - [24/Feb/2021 17:53:38] \"\u001b[37mGET /api/cfg/0x80483a0 HTTP/1.1\u001b[0m\" 200 -\u001b[0m\n",
      "INFO    | 2021-02-24 17:53:38,424 | \u001b[33mwerkzeug\u001b[0m | \u001b[33m127.0.0.1 - - [24/Feb/2021 17:53:38] \"\u001b[33mGET /favicon.ico HTTP/1.1\u001b[0m\" 404 -\u001b[0m\n",
      "INFO    | 2021-02-24 17:53:43,886 | \u001b[33mwerkzeug\u001b[0m | \u001b[33m127.0.0.1 - - [24/Feb/2021 17:53:43] \"\u001b[37mGET / HTTP/1.1\u001b[0m\" 200 -\u001b[0m\n",
      "INFO    | 2021-02-24 17:53:44,402 | \u001b[33mwerkzeug\u001b[0m | \u001b[33m127.0.0.1 - - [24/Feb/2021 17:53:44] \"\u001b[37mGET /api/cfg/0x80483a0 HTTP/1.1\u001b[0m\" 200 -\u001b[0m\n"
     ]
    }
   ],
   "source": [
    "cfg_explore(binary='./specrand_base.i386')"
   ]
  },
  {
   "cell_type": "markdown",
   "metadata": {},
   "source": [
    "Whenever you want to shut down the app, just interrupt the function. For example, in this notebook, click on <kbd>interrupt the kernel</kbd>buttom on the toolbar."
   ]
  },
  {
   "cell_type": "markdown",
   "metadata": {},
   "source": [
    "### Generate multiple formats of outputs\n",
    "\n",
    "Instead of launching a web app, you can also let `cfg_explore` generate output files by specifying `output` argument.\n",
    "\n",
    "For instance, we can get the `svg` format CFG of `specrand_base.i386'` using:"
   ]
  },
  {
   "cell_type": "code",
   "execution_count": 4,
   "metadata": {
    "ExecuteTime": {
     "end_time": "2020-08-08T00:30:09.611133Z",
     "start_time": "2020-08-08T00:30:09.377793Z"
    }
   },
   "outputs": [
    {
     "output_type": "stream",
     "name": "stderr",
     "text": [
      "WARNING | 2021-02-24 17:54:01,128 | \u001b[34mangr.analyses.cfg.cfg_fast\u001b[0m | \u001b[34m\"collect_data_references\" is deprecated and will be removed soon. Please use \"data_references\" instead\u001b[0m\n",
      "WARNING | 2021-02-24 17:54:01,131 | \u001b[32mangr.storage.memory_mixins.default_filler_mixin\u001b[0m | \u001b[32mFilling register es with 4 unconstrained bytes referenced from 0x0 (not part of a loaded object)\u001b[0m\n",
      "WARNING | 2021-02-24 17:54:01,132 | \u001b[32mangr.storage.memory_mixins.default_filler_mixin\u001b[0m | \u001b[32mFilling register gs with 4 unconstrained bytes referenced from 0x0 (not part of a loaded object)\u001b[0m\n",
      "N/A% |                                   | Elapsed Time: 0:00:00 ETA:  --:--:--WARNING | 2021-02-24 17:54:01,176 | \u001b[32mangr.storage.memory_mixins.default_filler_mixin\u001b[0m | \u001b[32mFilling register eax with 4 unconstrained bytes referenced from 0x80484fb (_start+0x8 in specrand_base.i386 (0x80484fb))\u001b[0m\n",
      "WARNING | 2021-02-24 17:54:01,178 | \u001b[32mangr.storage.memory_mixins.default_filler_mixin\u001b[0m | \u001b[32mFilling register edx with 4 unconstrained bytes referenced from 0x80484fd (_start+0xa in specrand_base.i386 (0x80484fd))\u001b[0m\n",
      "100% |###################################| Elapsed Time: 0:00:00 Time:  0:00:00\n"
     ]
    }
   ],
   "source": [
    "cfg_explore(binary='./specrand_base.i386',output='./test.svg')"
   ]
  },
  {
   "cell_type": "markdown",
   "metadata": {},
   "source": [
    "[`test.svg`](./test.svg) files can be opened by web-browser directly, it can also be displayed in this notebook:"
   ]
  },
  {
   "cell_type": "code",
   "execution_count": 5,
   "metadata": {
    "ExecuteTime": {
     "end_time": "2020-08-08T00:30:22.630348Z",
     "start_time": "2020-08-08T00:30:22.579880Z"
    }
   },
   "outputs": [
    {
     "output_type": "display_data",
     "data": {
      "text/plain": "<IPython.core.display.SVG object>",
      "image/svg+xml": "<svg height=\"2181pt\" viewBox=\"0.00 0.00 862.50 2181.00\" width=\"863pt\" xmlns=\"http://www.w3.org/2000/svg\" xmlns:xlink=\"http://www.w3.org/1999/xlink\">\n<g class=\"graph\" id=\"graph0\" transform=\"scale(1 1) rotate(0) translate(4 2177)\">\n<polygon fill=\"#ffffff\" points=\"-4,4 -4,-2177 858.5,-2177 858.5,4 -4,4\" stroke=\"transparent\"/>\n<!-- 1 -->\n<g class=\"node\" id=\"node1\">\n<title>1</title>\n<path d=\"M439.5,-2009.5C439.5,-2009.5 672.5,-2009.5 672.5,-2009.5 678.5,-2009.5 684.5,-2015.5 684.5,-2021.5 684.5,-2021.5 684.5,-2160.5 684.5,-2160.5 684.5,-2166.5 678.5,-2172.5 672.5,-2172.5 672.5,-2172.5 439.5,-2172.5 439.5,-2172.5 433.5,-2172.5 427.5,-2166.5 427.5,-2160.5 427.5,-2160.5 427.5,-2021.5 427.5,-2021.5 427.5,-2015.5 433.5,-2009.5 439.5,-2009.5\" fill=\"none\" stroke=\"#000000\"/>\n<text fill=\"#000000\" font-family=\"monospace\" font-size=\"8.00\" text-anchor=\"start\" x=\"486\" y=\"-2158.6\">0x80483a0</text>\n<text fill=\"#000000\" font-family=\"monospace\" font-size=\"8.00\" text-anchor=\"start\" x=\"538\" y=\"-2158.6\">(0x80483a0)</text>\n<text fill=\"#000000\" font-family=\"monospace\" font-size=\"8.00\" font-weight=\"bold\" text-anchor=\"start\" x=\"600\" y=\"-2159.6\">main</text>\n<polyline fill=\"none\" points=\"427.5,-2149.5 684.5,-2149.5 \" stroke=\"#000000\"/>\n<text fill=\"#000000\" font-family=\"monospace\" font-size=\"8.00\" text-anchor=\"start\" x=\"439\" y=\"-2136.1\">0x080483a0: </text>\n<text fill=\"#000000\" font-family=\"monospace\" font-size=\"8.00\" text-anchor=\"start\" x=\"507\" y=\"-2136.1\">push</text>\n<text fill=\"#000000\" font-family=\"monospace\" font-size=\"8.00\" text-anchor=\"start\" x=\"533\" y=\"-2136.1\">ebp</text>\n<text fill=\"#000000\" font-family=\"monospace\" font-size=\"8.00\" text-anchor=\"start\" x=\"439\" y=\"-2123.1\">0x080483a1: </text>\n<text fill=\"#000000\" font-family=\"monospace\" font-size=\"8.00\" text-anchor=\"start\" x=\"507\" y=\"-2123.1\">mov</text>\n<text fill=\"#000000\" font-family=\"monospace\" font-size=\"8.00\" text-anchor=\"start\" x=\"533\" y=\"-2123.1\">ebp, esp</text>\n<text fill=\"#000000\" font-family=\"monospace\" font-size=\"8.00\" text-anchor=\"start\" x=\"439\" y=\"-2110.1\">0x080483a3: </text>\n<text fill=\"#000000\" font-family=\"monospace\" font-size=\"8.00\" text-anchor=\"start\" x=\"507\" y=\"-2110.1\">push</text>\n<text fill=\"#000000\" font-family=\"monospace\" font-size=\"8.00\" text-anchor=\"start\" x=\"533\" y=\"-2110.1\">edi</text>\n<text fill=\"#000000\" font-family=\"monospace\" font-size=\"8.00\" text-anchor=\"start\" x=\"439\" y=\"-2097.1\">0x080483a4: </text>\n<text fill=\"#000000\" font-family=\"monospace\" font-size=\"8.00\" text-anchor=\"start\" x=\"507\" y=\"-2097.1\">push</text>\n<text fill=\"#000000\" font-family=\"monospace\" font-size=\"8.00\" text-anchor=\"start\" x=\"533\" y=\"-2097.1\">esi</text>\n<text fill=\"#000000\" font-family=\"monospace\" font-size=\"8.00\" text-anchor=\"start\" x=\"439\" y=\"-2084.1\">0x080483a5: </text>\n<text fill=\"#000000\" font-family=\"monospace\" font-size=\"8.00\" text-anchor=\"start\" x=\"507\" y=\"-2084.1\">push</text>\n<text fill=\"#000000\" font-family=\"monospace\" font-size=\"8.00\" text-anchor=\"start\" x=\"533\" y=\"-2084.1\">ebx</text>\n<text fill=\"#000000\" font-family=\"monospace\" font-size=\"8.00\" text-anchor=\"start\" x=\"439\" y=\"-2071.1\">0x080483a6: </text>\n<text fill=\"#000000\" font-family=\"monospace\" font-size=\"8.00\" text-anchor=\"start\" x=\"507\" y=\"-2071.1\">and</text>\n<text fill=\"#000000\" font-family=\"monospace\" font-size=\"8.00\" text-anchor=\"start\" x=\"533\" y=\"-2071.1\">esp, 0xfffffff0</text>\n<text fill=\"#000000\" font-family=\"monospace\" font-size=\"8.00\" text-anchor=\"start\" x=\"439\" y=\"-2058.1\">0x080483a9: </text>\n<text fill=\"#000000\" font-family=\"monospace\" font-size=\"8.00\" text-anchor=\"start\" x=\"507\" y=\"-2058.1\">sub</text>\n<text fill=\"#000000\" font-family=\"monospace\" font-size=\"8.00\" text-anchor=\"start\" x=\"533\" y=\"-2058.1\">esp, 0x20</text>\n<text fill=\"#000000\" font-family=\"monospace\" font-size=\"8.00\" text-anchor=\"start\" x=\"439\" y=\"-2045.1\">0x080483ac: </text>\n<text fill=\"#000000\" font-family=\"monospace\" font-size=\"8.00\" text-anchor=\"start\" x=\"507\" y=\"-2045.1\">mov</text>\n<text fill=\"#000000\" font-family=\"monospace\" font-size=\"8.00\" text-anchor=\"start\" x=\"533\" y=\"-2045.1\">ebx, dword ptr [ebp + 0xc]</text>\n<text fill=\"#000000\" font-family=\"monospace\" font-size=\"8.00\" text-anchor=\"start\" x=\"439\" y=\"-2032.1\">0x080483af: </text>\n<text fill=\"#000000\" font-family=\"monospace\" font-size=\"8.00\" text-anchor=\"start\" x=\"507\" y=\"-2032.1\">cmp</text>\n<text fill=\"#000000\" font-family=\"monospace\" font-size=\"8.00\" text-anchor=\"start\" x=\"533\" y=\"-2032.1\">dword ptr [ebp + 8], 1</text>\n<text fill=\"#000000\" font-family=\"monospace\" font-size=\"8.00\" text-anchor=\"start\" x=\"439\" y=\"-2019.1\">0x080483b3: </text>\n<text fill=\"#000000\" font-family=\"monospace\" font-size=\"8.00\" text-anchor=\"start\" x=\"507\" y=\"-2019.1\">jle</text>\n<text fill=\"#000000\" font-family=\"monospace\" font-size=\"8.00\" text-anchor=\"start\" x=\"533\" y=\"-2019.1\">0x80484ca</text>\n</g>\n<!-- 14 -->\n<g class=\"node\" id=\"node2\">\n<title>14</title>\n<g id=\"a_node2\"><a xlink:href=\"/api/cfg/0x8048390\" xlink:title=\"Click to navigate to function 0x8048390\">\n<path d=\"M269,-1874.5C269,-1874.5 535,-1874.5 535,-1874.5 541,-1874.5 547,-1880.5 547,-1886.5 547,-1886.5 547,-1960.5 547,-1960.5 547,-1966.5 541,-1972.5 535,-1972.5 535,-1972.5 269,-1972.5 269,-1972.5 263,-1972.5 257,-1966.5 257,-1960.5 257,-1960.5 257,-1886.5 257,-1886.5 257,-1880.5 263,-1874.5 269,-1874.5\" fill=\"none\" stroke=\"#000000\"/>\n<text fill=\"#000000\" font-family=\"monospace\" font-size=\"8.00\" text-anchor=\"start\" x=\"319\" y=\"-1958.6\">0x80483b9</text>\n<text fill=\"#000000\" font-family=\"monospace\" font-size=\"8.00\" text-anchor=\"start\" x=\"371\" y=\"-1958.6\">(0x80483a0)</text>\n<text fill=\"#000000\" font-family=\"monospace\" font-size=\"8.00\" font-weight=\"bold\" text-anchor=\"start\" x=\"433\" y=\"-1959.6\">main+0x19</text>\n<polyline fill=\"none\" points=\"257,-1949.5 547,-1949.5 \" stroke=\"#000000\"/>\n<text fill=\"#000000\" font-family=\"monospace\" font-size=\"8.00\" text-anchor=\"start\" x=\"268\" y=\"-1935.6\">0x080483b9: </text>\n<text fill=\"#000000\" font-family=\"monospace\" font-size=\"8.00\" text-anchor=\"start\" x=\"336\" y=\"-1935.6\">mov</text>\n<text fill=\"#000000\" font-family=\"monospace\" font-size=\"8.00\" text-anchor=\"start\" x=\"362\" y=\"-1935.6\">dword ptr [esp + 8], 0xa</text>\n<text fill=\"#000000\" font-family=\"monospace\" font-size=\"8.00\" text-anchor=\"start\" x=\"268\" y=\"-1922.6\">0x080483c1: </text>\n<text fill=\"#000000\" font-family=\"monospace\" font-size=\"8.00\" text-anchor=\"start\" x=\"336\" y=\"-1922.6\">mov</text>\n<text fill=\"#000000\" font-family=\"monospace\" font-size=\"8.00\" text-anchor=\"start\" x=\"362\" y=\"-1922.6\">dword ptr [esp + 4], 0</text>\n<text fill=\"#000000\" font-family=\"monospace\" font-size=\"8.00\" text-anchor=\"start\" x=\"268\" y=\"-1909.6\">0x080483c9: </text>\n<text fill=\"#000000\" font-family=\"monospace\" font-size=\"8.00\" text-anchor=\"start\" x=\"336\" y=\"-1909.6\">mov</text>\n<text fill=\"#000000\" font-family=\"monospace\" font-size=\"8.00\" text-anchor=\"start\" x=\"362\" y=\"-1909.6\">eax, dword ptr [ebx + 4]</text>\n<text fill=\"#000000\" font-family=\"monospace\" font-size=\"8.00\" text-anchor=\"start\" x=\"268\" y=\"-1896.6\">0x080483cc: </text>\n<text fill=\"#000000\" font-family=\"monospace\" font-size=\"8.00\" text-anchor=\"start\" x=\"336\" y=\"-1896.6\">mov</text>\n<text fill=\"#000000\" font-family=\"monospace\" font-size=\"8.00\" text-anchor=\"start\" x=\"362\" y=\"-1896.6\">dword ptr [esp], eax</text>\n<text fill=\"#000000\" font-family=\"monospace\" font-size=\"8.00\" text-anchor=\"start\" x=\"268\" y=\"-1883.6\">0x080483cf: </text>\n<text fill=\"#000000\" font-family=\"monospace\" font-size=\"8.00\" text-anchor=\"start\" x=\"336\" y=\"-1883.6\">call</text>\n<text fill=\"#000000\" font-family=\"monospace\" font-size=\"8.00\" text-anchor=\"start\" x=\"362\" y=\"-1883.6\">0x8048390</text>\n<text fill=\"#c0c0c0\" font-family=\"monospace\" font-size=\"8.00\" text-anchor=\"start\" x=\"493\" y=\"-1883.6\">; strtol</text>\n</a>\n</g>\n</g>\n<!-- 1&#45;&gt;14 -->\n<g class=\"edge\" id=\"edge2\">\n<title>1-&gt;14</title>\n<path d=\"M480.8045,-2009.2127C471.7676,-1999.3836 462.6975,-1989.5184 454.0925,-1980.1591\" fill=\"none\" stroke=\"#ff0000\"/>\n<polygon fill=\"#ff0000\" points=\"456.6455,-1977.7646 447.3008,-1972.7719 451.4924,-1982.5023 456.6455,-1977.7646\" stroke=\"#ff0000\"/>\n</g>\n<!-- 13 -->\n<g class=\"node\" id=\"node19\">\n<title>13</title>\n<g id=\"a_node19\"><a xlink:href=\"/api/cfg/0x8048350\" xlink:title=\"Click to navigate to function 0x8048350\">\n<path d=\"M577.5,-1894C577.5,-1894 842.5,-1894 842.5,-1894 848.5,-1894 854.5,-1900 854.5,-1906 854.5,-1906 854.5,-1941 854.5,-1941 854.5,-1947 848.5,-1953 842.5,-1953 842.5,-1953 577.5,-1953 577.5,-1953 571.5,-1953 565.5,-1947 565.5,-1941 565.5,-1941 565.5,-1906 565.5,-1906 565.5,-1900 571.5,-1894 577.5,-1894\" fill=\"none\" stroke=\"#000000\"/>\n<text fill=\"#000000\" font-family=\"monospace\" font-size=\"8.00\" text-anchor=\"start\" x=\"625\" y=\"-1939.1\">0x80484ca</text>\n<text fill=\"#000000\" font-family=\"monospace\" font-size=\"8.00\" text-anchor=\"start\" x=\"677\" y=\"-1939.1\">(0x80483a0)</text>\n<text fill=\"#000000\" font-family=\"monospace\" font-size=\"8.00\" font-weight=\"bold\" text-anchor=\"start\" x=\"739\" y=\"-1940.1\">main+0x12a</text>\n<polyline fill=\"none\" points=\"565.5,-1930 854.5,-1930 \" stroke=\"#000000\"/>\n<text fill=\"#000000\" font-family=\"monospace\" font-size=\"8.00\" text-anchor=\"start\" x=\"577\" y=\"-1916.6\">0x080484ca: </text>\n<text fill=\"#000000\" font-family=\"monospace\" font-size=\"8.00\" text-anchor=\"start\" x=\"645\" y=\"-1916.6\">mov</text>\n<text fill=\"#000000\" font-family=\"monospace\" font-size=\"8.00\" text-anchor=\"start\" x=\"671\" y=\"-1916.6\">dword ptr [esp], 0x80486f0</text>\n<text fill=\"#000000\" font-family=\"monospace\" font-size=\"8.00\" text-anchor=\"start\" x=\"577\" y=\"-1903.6\">0x080484d1: </text>\n<text fill=\"#000000\" font-family=\"monospace\" font-size=\"8.00\" text-anchor=\"start\" x=\"645\" y=\"-1903.6\">call</text>\n<text fill=\"#000000\" font-family=\"monospace\" font-size=\"8.00\" text-anchor=\"start\" x=\"671\" y=\"-1903.6\">0x8048350</text>\n<text fill=\"#c0c0c0\" font-family=\"monospace\" font-size=\"8.00\" text-anchor=\"start\" x=\"812\" y=\"-1903.6\">; puts</text>\n</a>\n</g>\n</g>\n<!-- 1&#45;&gt;13 -->\n<g class=\"edge\" id=\"edge1\">\n<title>1-&gt;13</title>\n<path d=\"M631.1955,-2009.2127C646.7855,-1992.256 662.4742,-1975.192 675.7034,-1960.8031\" fill=\"none\" stroke=\"#00ff00\"/>\n<polygon fill=\"#00ff00\" points=\"678.592,-1962.8326 682.7837,-1953.1022 673.4389,-1958.0948 678.592,-1962.8326\" stroke=\"#00ff00\"/>\n</g>\n<!-- 42 -->\n<g class=\"node\" id=\"node3\">\n<title>42</title>\n<g id=\"a_node3\"><a xlink:href=\"/api/cfg/0x8048390\" xlink:title=\"Click to navigate to function 0x8048390\">\n<path d=\"M269,-1726.5C269,-1726.5 535,-1726.5 535,-1726.5 541,-1726.5 547,-1732.5 547,-1738.5 547,-1738.5 547,-1825.5 547,-1825.5 547,-1831.5 541,-1837.5 535,-1837.5 535,-1837.5 269,-1837.5 269,-1837.5 263,-1837.5 257,-1831.5 257,-1825.5 257,-1825.5 257,-1738.5 257,-1738.5 257,-1732.5 263,-1726.5 269,-1726.5\" fill=\"none\" stroke=\"#000000\"/>\n<text fill=\"#000000\" font-family=\"monospace\" font-size=\"8.00\" text-anchor=\"start\" x=\"319\" y=\"-1823.6\">0x80483d4</text>\n<text fill=\"#000000\" font-family=\"monospace\" font-size=\"8.00\" text-anchor=\"start\" x=\"371\" y=\"-1823.6\">(0x80483a0)</text>\n<text fill=\"#000000\" font-family=\"monospace\" font-size=\"8.00\" font-weight=\"bold\" text-anchor=\"start\" x=\"433\" y=\"-1824.6\">main+0x34</text>\n<polyline fill=\"none\" points=\"257,-1814.5 547,-1814.5 \" stroke=\"#000000\"/>\n<text fill=\"#000000\" font-family=\"monospace\" font-size=\"8.00\" text-anchor=\"start\" x=\"268\" y=\"-1801.1\">0x080483d4: </text>\n<text fill=\"#000000\" font-family=\"monospace\" font-size=\"8.00\" text-anchor=\"start\" x=\"336\" y=\"-1801.1\">mov</text>\n<text fill=\"#000000\" font-family=\"monospace\" font-size=\"8.00\" text-anchor=\"start\" x=\"362\" y=\"-1801.1\">dword ptr [esp + 8], 0xa</text>\n<text fill=\"#000000\" font-family=\"monospace\" font-size=\"8.00\" text-anchor=\"start\" x=\"268\" y=\"-1788.1\">0x080483dc: </text>\n<text fill=\"#000000\" font-family=\"monospace\" font-size=\"8.00\" text-anchor=\"start\" x=\"336\" y=\"-1788.1\">mov</text>\n<text fill=\"#000000\" font-family=\"monospace\" font-size=\"8.00\" text-anchor=\"start\" x=\"362\" y=\"-1788.1\">dword ptr [esp + 4], 0</text>\n<text fill=\"#000000\" font-family=\"monospace\" font-size=\"8.00\" text-anchor=\"start\" x=\"268\" y=\"-1775.1\">0x080483e4: </text>\n<text fill=\"#000000\" font-family=\"monospace\" font-size=\"8.00\" text-anchor=\"start\" x=\"336\" y=\"-1775.1\">mov</text>\n<text fill=\"#000000\" font-family=\"monospace\" font-size=\"8.00\" text-anchor=\"start\" x=\"362\" y=\"-1775.1\">edi, eax</text>\n<text fill=\"#000000\" font-family=\"monospace\" font-size=\"8.00\" text-anchor=\"start\" x=\"268\" y=\"-1762.1\">0x080483e6: </text>\n<text fill=\"#000000\" font-family=\"monospace\" font-size=\"8.00\" text-anchor=\"start\" x=\"336\" y=\"-1762.1\">mov</text>\n<text fill=\"#000000\" font-family=\"monospace\" font-size=\"8.00\" text-anchor=\"start\" x=\"362\" y=\"-1762.1\">eax, dword ptr [ebx + 8]</text>\n<text fill=\"#000000\" font-family=\"monospace\" font-size=\"8.00\" text-anchor=\"start\" x=\"268\" y=\"-1749.1\">0x080483e9: </text>\n<text fill=\"#000000\" font-family=\"monospace\" font-size=\"8.00\" text-anchor=\"start\" x=\"336\" y=\"-1749.1\">mov</text>\n<text fill=\"#000000\" font-family=\"monospace\" font-size=\"8.00\" text-anchor=\"start\" x=\"362\" y=\"-1749.1\">dword ptr [esp], eax</text>\n<text fill=\"#000000\" font-family=\"monospace\" font-size=\"8.00\" text-anchor=\"start\" x=\"268\" y=\"-1736.1\">0x080483ec: </text>\n<text fill=\"#000000\" font-family=\"monospace\" font-size=\"8.00\" text-anchor=\"start\" x=\"336\" y=\"-1736.1\">call</text>\n<text fill=\"#000000\" font-family=\"monospace\" font-size=\"8.00\" text-anchor=\"start\" x=\"362\" y=\"-1736.1\">0x8048390</text>\n<text fill=\"#c0c0c0\" font-family=\"monospace\" font-size=\"8.00\" text-anchor=\"start\" x=\"493\" y=\"-1736.1\">; strtol</text>\n</a>\n</g>\n</g>\n<!-- 14&#45;&gt;42 -->\n<g class=\"edge\" id=\"edge4\">\n<title>14-&gt;42</title>\n<path d=\"M402,-1874.4073C402,-1865.824 402,-1856.77 402,-1847.8217\" fill=\"none\" stroke=\"#c0c0c0\" stroke-dasharray=\"1,5\"/>\n<polygon fill=\"#c0c0c0\" points=\"405.5001,-1847.7944 402,-1837.7944 398.5001,-1847.7944 405.5001,-1847.7944\" stroke=\"#c0c0c0\"/>\n</g>\n<!-- 43 -->\n<g class=\"node\" id=\"node4\">\n<title>43</title>\n<g id=\"a_node4\"><a xlink:href=\"/api/cfg/0x8048380\" xlink:title=\"Click to navigate to function 0x8048380\">\n<path d=\"M238,-1578.5C238,-1578.5 566,-1578.5 566,-1578.5 572,-1578.5 578,-1584.5 578,-1590.5 578,-1590.5 578,-1677.5 578,-1677.5 578,-1683.5 572,-1689.5 566,-1689.5 566,-1689.5 238,-1689.5 238,-1689.5 232,-1689.5 226,-1683.5 226,-1677.5 226,-1677.5 226,-1590.5 226,-1590.5 226,-1584.5 232,-1578.5 238,-1578.5\" fill=\"none\" stroke=\"#000000\"/>\n<text fill=\"#000000\" font-family=\"monospace\" font-size=\"8.00\" text-anchor=\"start\" x=\"319\" y=\"-1675.6\">0x80483f1</text>\n<text fill=\"#000000\" font-family=\"monospace\" font-size=\"8.00\" text-anchor=\"start\" x=\"371\" y=\"-1675.6\">(0x80483a0)</text>\n<text fill=\"#000000\" font-family=\"monospace\" font-size=\"8.00\" font-weight=\"bold\" text-anchor=\"start\" x=\"433\" y=\"-1676.6\">main+0x51</text>\n<polyline fill=\"none\" points=\"226,-1666.5 578,-1666.5 \" stroke=\"#000000\"/>\n<text fill=\"#000000\" font-family=\"monospace\" font-size=\"8.00\" text-anchor=\"start\" x=\"237\" y=\"-1653.1\">0x080483f1: </text>\n<text fill=\"#000000\" font-family=\"monospace\" font-size=\"8.00\" text-anchor=\"start\" x=\"305\" y=\"-1653.1\">mov</text>\n<text fill=\"#000000\" font-family=\"monospace\" font-size=\"8.00\" text-anchor=\"start\" x=\"331\" y=\"-1653.1\">dword ptr [esp + 8], edi</text>\n<text fill=\"#000000\" font-family=\"monospace\" font-size=\"8.00\" text-anchor=\"start\" x=\"237\" y=\"-1640.1\">0x080483f5: </text>\n<text fill=\"#000000\" font-family=\"monospace\" font-size=\"8.00\" text-anchor=\"start\" x=\"305\" y=\"-1640.1\">mov</text>\n<text fill=\"#000000\" font-family=\"monospace\" font-size=\"8.00\" text-anchor=\"start\" x=\"331\" y=\"-1640.1\">dword ptr [esp + 4], 0x804870d</text>\n<text fill=\"#000000\" font-family=\"monospace\" font-size=\"8.00\" text-anchor=\"start\" x=\"237\" y=\"-1627.1\">0x080483fd: </text>\n<text fill=\"#000000\" font-family=\"monospace\" font-size=\"8.00\" text-anchor=\"start\" x=\"305\" y=\"-1627.1\">mov</text>\n<text fill=\"#000000\" font-family=\"monospace\" font-size=\"8.00\" text-anchor=\"start\" x=\"331\" y=\"-1627.1\">dword ptr [esp], 1</text>\n<text fill=\"#000000\" font-family=\"monospace\" font-size=\"8.00\" text-anchor=\"start\" x=\"237\" y=\"-1614.1\">0x08048404: </text>\n<text fill=\"#000000\" font-family=\"monospace\" font-size=\"8.00\" text-anchor=\"start\" x=\"305\" y=\"-1614.1\">mov</text>\n<text fill=\"#000000\" font-family=\"monospace\" font-size=\"8.00\" text-anchor=\"start\" x=\"331\" y=\"-1614.1\">dword ptr [esp + 0xc], eax</text>\n<text fill=\"#000000\" font-family=\"monospace\" font-size=\"8.00\" text-anchor=\"start\" x=\"237\" y=\"-1601.1\">0x08048408: </text>\n<text fill=\"#000000\" font-family=\"monospace\" font-size=\"8.00\" text-anchor=\"start\" x=\"305\" y=\"-1601.1\">mov</text>\n<text fill=\"#000000\" font-family=\"monospace\" font-size=\"8.00\" text-anchor=\"start\" x=\"331\" y=\"-1601.1\">esi, eax</text>\n<text fill=\"#000000\" font-family=\"monospace\" font-size=\"8.00\" text-anchor=\"start\" x=\"237\" y=\"-1588.1\">0x0804840a: </text>\n<text fill=\"#000000\" font-family=\"monospace\" font-size=\"8.00\" text-anchor=\"start\" x=\"305\" y=\"-1588.1\">call</text>\n<text fill=\"#000000\" font-family=\"monospace\" font-size=\"8.00\" text-anchor=\"start\" x=\"331\" y=\"-1588.1\">0x8048380</text>\n<text fill=\"#c0c0c0\" font-family=\"monospace\" font-size=\"8.00\" text-anchor=\"start\" x=\"493\" y=\"-1588.1\">; __printf_chk</text>\n</a>\n</g>\n</g>\n<!-- 42&#45;&gt;43 -->\n<g class=\"edge\" id=\"edge5\">\n<title>42-&gt;43</title>\n<path d=\"M402,-1726.4692C402,-1717.8619 402,-1708.8985 402,-1700.0866\" fill=\"none\" stroke=\"#c0c0c0\" stroke-dasharray=\"1,5\"/>\n<polygon fill=\"#c0c0c0\" points=\"405.5001,-1699.842 402,-1689.842 398.5001,-1699.8421 405.5001,-1699.842\" stroke=\"#c0c0c0\"/>\n</g>\n<!-- 48 -->\n<g class=\"node\" id=\"node5\">\n<title>48</title>\n<g id=\"a_node5\"><a xlink:href=\"/api/cfg/0x8048380\" xlink:title=\"Click to navigate to function 0x8048380\">\n<path d=\"M238,-1469.5C238,-1469.5 566,-1469.5 566,-1469.5 572,-1469.5 578,-1475.5 578,-1481.5 578,-1481.5 578,-1529.5 578,-1529.5 578,-1535.5 572,-1541.5 566,-1541.5 566,-1541.5 238,-1541.5 238,-1541.5 232,-1541.5 226,-1535.5 226,-1529.5 226,-1529.5 226,-1481.5 226,-1481.5 226,-1475.5 232,-1469.5 238,-1469.5\" fill=\"none\" stroke=\"#000000\"/>\n<text fill=\"#000000\" font-family=\"monospace\" font-size=\"8.00\" text-anchor=\"start\" x=\"319\" y=\"-1527.6\">0x804840f</text>\n<text fill=\"#000000\" font-family=\"monospace\" font-size=\"8.00\" text-anchor=\"start\" x=\"371\" y=\"-1527.6\">(0x80483a0)</text>\n<text fill=\"#000000\" font-family=\"monospace\" font-size=\"8.00\" font-weight=\"bold\" text-anchor=\"start\" x=\"433\" y=\"-1528.6\">main+0x6f</text>\n<polyline fill=\"none\" points=\"226,-1518.5 578,-1518.5 \" stroke=\"#000000\"/>\n<text fill=\"#000000\" font-family=\"monospace\" font-size=\"8.00\" text-anchor=\"start\" x=\"237\" y=\"-1504.6\">0x0804840f: </text>\n<text fill=\"#000000\" font-family=\"monospace\" font-size=\"8.00\" text-anchor=\"start\" x=\"305\" y=\"-1504.6\">mov</text>\n<text fill=\"#000000\" font-family=\"monospace\" font-size=\"8.00\" text-anchor=\"start\" x=\"331\" y=\"-1504.6\">dword ptr [esp + 4], 0x8048723</text>\n<text fill=\"#000000\" font-family=\"monospace\" font-size=\"8.00\" text-anchor=\"start\" x=\"237\" y=\"-1491.6\">0x08048417: </text>\n<text fill=\"#000000\" font-family=\"monospace\" font-size=\"8.00\" text-anchor=\"start\" x=\"305\" y=\"-1491.6\">mov</text>\n<text fill=\"#000000\" font-family=\"monospace\" font-size=\"8.00\" text-anchor=\"start\" x=\"331\" y=\"-1491.6\">dword ptr [esp], 1</text>\n<text fill=\"#000000\" font-family=\"monospace\" font-size=\"8.00\" text-anchor=\"start\" x=\"237\" y=\"-1478.6\">0x0804841e: </text>\n<text fill=\"#000000\" font-family=\"monospace\" font-size=\"8.00\" text-anchor=\"start\" x=\"305\" y=\"-1478.6\">call</text>\n<text fill=\"#000000\" font-family=\"monospace\" font-size=\"8.00\" text-anchor=\"start\" x=\"331\" y=\"-1478.6\">0x8048380</text>\n<text fill=\"#c0c0c0\" font-family=\"monospace\" font-size=\"8.00\" text-anchor=\"start\" x=\"493\" y=\"-1478.6\">; __printf_chk</text>\n</a>\n</g>\n</g>\n<!-- 43&#45;&gt;48 -->\n<g class=\"edge\" id=\"edge6\">\n<title>43-&gt;48</title>\n<path d=\"M402,-1578.3854C402,-1569.5125 402,-1560.4158 402,-1551.7888\" fill=\"none\" stroke=\"#c0c0c0\" stroke-dasharray=\"1,5\"/>\n<polygon fill=\"#c0c0c0\" points=\"405.5001,-1551.5454 402,-1541.5455 398.5001,-1551.5455 405.5001,-1551.5454\" stroke=\"#c0c0c0\"/>\n</g>\n<!-- 49 -->\n<g class=\"node\" id=\"node6\">\n<title>49</title>\n<g id=\"a_node6\"><a xlink:href=\"/api/cfg/0x80485f0\" xlink:title=\"Click to navigate to function 0x80485f0\">\n<path d=\"M269,-1373.5C269,-1373.5 535,-1373.5 535,-1373.5 541,-1373.5 547,-1379.5 547,-1385.5 547,-1385.5 547,-1420.5 547,-1420.5 547,-1426.5 541,-1432.5 535,-1432.5 535,-1432.5 269,-1432.5 269,-1432.5 263,-1432.5 257,-1426.5 257,-1420.5 257,-1420.5 257,-1385.5 257,-1385.5 257,-1379.5 263,-1373.5 269,-1373.5\" fill=\"none\" stroke=\"#000000\"/>\n<text fill=\"#000000\" font-family=\"monospace\" font-size=\"8.00\" text-anchor=\"start\" x=\"319\" y=\"-1418.6\">0x8048423</text>\n<text fill=\"#000000\" font-family=\"monospace\" font-size=\"8.00\" text-anchor=\"start\" x=\"371\" y=\"-1418.6\">(0x80483a0)</text>\n<text fill=\"#000000\" font-family=\"monospace\" font-size=\"8.00\" font-weight=\"bold\" text-anchor=\"start\" x=\"433\" y=\"-1419.6\">main+0x83</text>\n<polyline fill=\"none\" points=\"257,-1409.5 547,-1409.5 \" stroke=\"#000000\"/>\n<text fill=\"#000000\" font-family=\"monospace\" font-size=\"8.00\" text-anchor=\"start\" x=\"268\" y=\"-1396.1\">0x08048423: </text>\n<text fill=\"#000000\" font-family=\"monospace\" font-size=\"8.00\" text-anchor=\"start\" x=\"336\" y=\"-1396.1\">mov</text>\n<text fill=\"#000000\" font-family=\"monospace\" font-size=\"8.00\" text-anchor=\"start\" x=\"362\" y=\"-1396.1\">dword ptr [esp], edi</text>\n<text fill=\"#000000\" font-family=\"monospace\" font-size=\"8.00\" text-anchor=\"start\" x=\"268\" y=\"-1383.1\">0x08048426: </text>\n<text fill=\"#000000\" font-family=\"monospace\" font-size=\"8.00\" text-anchor=\"start\" x=\"336\" y=\"-1383.1\">call</text>\n<text fill=\"#000000\" font-family=\"monospace\" font-size=\"8.00\" text-anchor=\"start\" x=\"362\" y=\"-1383.1\">0x80485f0</text>\n<text fill=\"#c0c0c0\" font-family=\"monospace\" font-size=\"8.00\" text-anchor=\"start\" x=\"472\" y=\"-1383.1\">; spec_srand</text>\n</a>\n</g>\n</g>\n<!-- 48&#45;&gt;49 -->\n<g class=\"edge\" id=\"edge8\">\n<title>48-&gt;49</title>\n<path d=\"M402,-1469.3623C402,-1460.7455 402,-1451.5028 402,-1442.7343\" fill=\"none\" stroke=\"#c0c0c0\" stroke-dasharray=\"1,5\"/>\n<polygon fill=\"#c0c0c0\" points=\"405.5001,-1442.7246 402,-1432.7247 398.5001,-1442.7247 405.5001,-1442.7246\" stroke=\"#c0c0c0\"/>\n</g>\n<!-- 50 -->\n<g class=\"node\" id=\"node7\">\n<title>50</title>\n<path d=\"M320,-1277.5C320,-1277.5 484,-1277.5 484,-1277.5 490,-1277.5 496,-1283.5 496,-1289.5 496,-1289.5 496,-1324.5 496,-1324.5 496,-1330.5 490,-1336.5 484,-1336.5 484,-1336.5 320,-1336.5 320,-1336.5 314,-1336.5 308,-1330.5 308,-1324.5 308,-1324.5 308,-1289.5 308,-1289.5 308,-1283.5 314,-1277.5 320,-1277.5\" fill=\"none\" stroke=\"#000000\"/>\n<text fill=\"#000000\" font-family=\"monospace\" font-size=\"8.00\" text-anchor=\"start\" x=\"319\" y=\"-1322.6\">0x804842b</text>\n<text fill=\"#000000\" font-family=\"monospace\" font-size=\"8.00\" text-anchor=\"start\" x=\"371\" y=\"-1322.6\">(0x80483a0)</text>\n<text fill=\"#000000\" font-family=\"monospace\" font-size=\"8.00\" font-weight=\"bold\" text-anchor=\"start\" x=\"433\" y=\"-1323.6\">main+0x8b</text>\n<polyline fill=\"none\" points=\"308,-1313.5 496,-1313.5 \" stroke=\"#000000\"/>\n<text fill=\"#000000\" font-family=\"monospace\" font-size=\"8.00\" text-anchor=\"start\" x=\"329\" y=\"-1300.1\">0x0804842b: </text>\n<text fill=\"#000000\" font-family=\"monospace\" font-size=\"8.00\" text-anchor=\"start\" x=\"397\" y=\"-1300.1\">test</text>\n<text fill=\"#000000\" font-family=\"monospace\" font-size=\"8.00\" text-anchor=\"start\" x=\"423\" y=\"-1300.1\">esi, esi</text>\n<text fill=\"#000000\" font-family=\"monospace\" font-size=\"8.00\" text-anchor=\"start\" x=\"329\" y=\"-1287.1\">0x0804842d: </text>\n<text fill=\"#000000\" font-family=\"monospace\" font-size=\"8.00\" text-anchor=\"start\" x=\"397\" y=\"-1287.1\">jle</text>\n<text fill=\"#000000\" font-family=\"monospace\" font-size=\"8.00\" text-anchor=\"start\" x=\"423\" y=\"-1287.1\">0x80484dd</text>\n</g>\n<!-- 49&#45;&gt;50 -->\n<g class=\"edge\" id=\"edge9\">\n<title>49-&gt;50</title>\n<path d=\"M402,-1373.4135C402,-1365.0189 402,-1355.7386 402,-1346.8433\" fill=\"none\" stroke=\"#c0c0c0\" stroke-dasharray=\"1,5\"/>\n<polygon fill=\"#c0c0c0\" points=\"405.5001,-1346.654 402,-1336.6541 398.5001,-1346.6541 405.5001,-1346.654\" stroke=\"#c0c0c0\"/>\n</g>\n<!-- 86 -->\n<g class=\"node\" id=\"node8\">\n<title>86</title>\n<path d=\"M136,-1175C136,-1175 300,-1175 300,-1175 306,-1175 312,-1181 312,-1187 312,-1187 312,-1222 312,-1222 312,-1228 306,-1234 300,-1234 300,-1234 136,-1234 136,-1234 130,-1234 124,-1228 124,-1222 124,-1222 124,-1187 124,-1187 124,-1181 130,-1175 136,-1175\" fill=\"none\" stroke=\"#000000\"/>\n<text fill=\"#000000\" font-family=\"monospace\" font-size=\"8.00\" text-anchor=\"start\" x=\"135\" y=\"-1220.1\">0x8048433</text>\n<text fill=\"#000000\" font-family=\"monospace\" font-size=\"8.00\" text-anchor=\"start\" x=\"187\" y=\"-1220.1\">(0x80483a0)</text>\n<text fill=\"#000000\" font-family=\"monospace\" font-size=\"8.00\" font-weight=\"bold\" text-anchor=\"start\" x=\"249\" y=\"-1221.1\">main+0x93</text>\n<polyline fill=\"none\" points=\"124,-1211 312,-1211 \" stroke=\"#000000\"/>\n<text fill=\"#000000\" font-family=\"monospace\" font-size=\"8.00\" text-anchor=\"start\" x=\"146\" y=\"-1197.6\">0x08048433: </text>\n<text fill=\"#000000\" font-family=\"monospace\" font-size=\"8.00\" text-anchor=\"start\" x=\"214\" y=\"-1197.6\">xor</text>\n<text fill=\"#000000\" font-family=\"monospace\" font-size=\"8.00\" text-anchor=\"start\" x=\"234\" y=\"-1197.6\">ebx, ebx</text>\n<text fill=\"#000000\" font-family=\"monospace\" font-size=\"8.00\" text-anchor=\"start\" x=\"146\" y=\"-1184.6\">0x08048435: </text>\n<text fill=\"#000000\" font-family=\"monospace\" font-size=\"8.00\" text-anchor=\"start\" x=\"214\" y=\"-1184.6\">lea</text>\n<text fill=\"#000000\" font-family=\"monospace\" font-size=\"8.00\" text-anchor=\"start\" x=\"234\" y=\"-1184.6\">esi, [esi]</text>\n</g>\n<!-- 50&#45;&gt;86 -->\n<g class=\"edge\" id=\"edge11\">\n<title>50-&gt;86</title>\n<path d=\"M348.7796,-1277.3528C327.2288,-1265.3475 302.203,-1251.4066 279.8478,-1238.9532\" fill=\"none\" stroke=\"#ff0000\"/>\n<polygon fill=\"#ff0000\" points=\"281.5401,-1235.8896 271.1008,-1234.0806 278.1335,-1242.0048 281.5401,-1235.8896\" stroke=\"#ff0000\"/>\n</g>\n<!-- 51 -->\n<g class=\"node\" id=\"node21\">\n<title>51</title>\n<g id=\"a_node21\"><a xlink:href=\"/api/cfg/0x8048380\" xlink:title=\"Click to navigate to function 0x8048380\">\n<path d=\"M342,-1168.5C342,-1168.5 670,-1168.5 670,-1168.5 676,-1168.5 682,-1174.5 682,-1180.5 682,-1180.5 682,-1228.5 682,-1228.5 682,-1234.5 676,-1240.5 670,-1240.5 670,-1240.5 342,-1240.5 342,-1240.5 336,-1240.5 330,-1234.5 330,-1228.5 330,-1228.5 330,-1180.5 330,-1180.5 330,-1174.5 336,-1168.5 342,-1168.5\" fill=\"none\" stroke=\"#000000\"/>\n<text fill=\"#000000\" font-family=\"monospace\" font-size=\"8.00\" text-anchor=\"start\" x=\"421\" y=\"-1226.6\">0x80484dd</text>\n<text fill=\"#000000\" font-family=\"monospace\" font-size=\"8.00\" text-anchor=\"start\" x=\"473\" y=\"-1226.6\">(0x80483a0)</text>\n<text fill=\"#000000\" font-family=\"monospace\" font-size=\"8.00\" font-weight=\"bold\" text-anchor=\"start\" x=\"535\" y=\"-1227.6\">main+0x13d</text>\n<polyline fill=\"none\" points=\"330,-1217.5 682,-1217.5 \" stroke=\"#000000\"/>\n<text fill=\"#000000\" font-family=\"monospace\" font-size=\"8.00\" text-anchor=\"start\" x=\"341\" y=\"-1203.6\">0x080484dd: </text>\n<text fill=\"#000000\" font-family=\"monospace\" font-size=\"8.00\" text-anchor=\"start\" x=\"409\" y=\"-1203.6\">mov</text>\n<text fill=\"#000000\" font-family=\"monospace\" font-size=\"8.00\" text-anchor=\"start\" x=\"435\" y=\"-1203.6\">dword ptr [esp + 4], 0x8048736</text>\n<text fill=\"#000000\" font-family=\"monospace\" font-size=\"8.00\" text-anchor=\"start\" x=\"341\" y=\"-1190.6\">0x080484e5: </text>\n<text fill=\"#000000\" font-family=\"monospace\" font-size=\"8.00\" text-anchor=\"start\" x=\"409\" y=\"-1190.6\">mov</text>\n<text fill=\"#000000\" font-family=\"monospace\" font-size=\"8.00\" text-anchor=\"start\" x=\"435\" y=\"-1190.6\">dword ptr [esp], 1</text>\n<text fill=\"#000000\" font-family=\"monospace\" font-size=\"8.00\" text-anchor=\"start\" x=\"341\" y=\"-1177.6\">0x080484ec: </text>\n<text fill=\"#000000\" font-family=\"monospace\" font-size=\"8.00\" text-anchor=\"start\" x=\"409\" y=\"-1177.6\">call</text>\n<text fill=\"#000000\" font-family=\"monospace\" font-size=\"8.00\" text-anchor=\"start\" x=\"435\" y=\"-1177.6\">0x8048380</text>\n<text fill=\"#c0c0c0\" font-family=\"monospace\" font-size=\"8.00\" text-anchor=\"start\" x=\"597\" y=\"-1177.6\">; __printf_chk</text>\n</a>\n</g>\n</g>\n<!-- 50&#45;&gt;51 -->\n<g class=\"edge\" id=\"edge10\">\n<title>50-&gt;51</title>\n<path d=\"M432.0811,-1277.3528C441.4462,-1268.1227 451.9723,-1257.7485 462.0808,-1247.7858\" fill=\"none\" stroke=\"#00ff00\"/>\n<polygon fill=\"#00ff00\" points=\"464.6795,-1250.1387 469.3449,-1240.6264 459.7658,-1245.1532 464.6795,-1250.1387\" stroke=\"#00ff00\"/>\n</g>\n<!-- 55 -->\n<g class=\"node\" id=\"node9\">\n<title>55</title>\n<g id=\"a_node9\"><a xlink:href=\"/api/cfg/0x8048600\" xlink:title=\"Click to navigate to function 0x8048600\">\n<path d=\"M117,-1085.5C117,-1085.5 319,-1085.5 319,-1085.5 325,-1085.5 331,-1091.5 331,-1097.5 331,-1097.5 331,-1119.5 331,-1119.5 331,-1125.5 325,-1131.5 319,-1131.5 319,-1131.5 117,-1131.5 117,-1131.5 111,-1131.5 105,-1125.5 105,-1119.5 105,-1119.5 105,-1097.5 105,-1097.5 105,-1091.5 111,-1085.5 117,-1085.5\" fill=\"none\" stroke=\"#000000\"/>\n<text fill=\"#000000\" font-family=\"monospace\" font-size=\"8.00\" text-anchor=\"start\" x=\"135\" y=\"-1117.6\">0x8048438</text>\n<text fill=\"#000000\" font-family=\"monospace\" font-size=\"8.00\" text-anchor=\"start\" x=\"187\" y=\"-1117.6\">(0x80483a0)</text>\n<text fill=\"#000000\" font-family=\"monospace\" font-size=\"8.00\" font-weight=\"bold\" text-anchor=\"start\" x=\"249\" y=\"-1118.6\">main+0x98</text>\n<polyline fill=\"none\" points=\"105,-1108.5 331,-1108.5 \" stroke=\"#000000\"/>\n<text fill=\"#000000\" font-family=\"monospace\" font-size=\"8.00\" text-anchor=\"start\" x=\"116\" y=\"-1094.6\">0x08048438: </text>\n<text fill=\"#000000\" font-family=\"monospace\" font-size=\"8.00\" text-anchor=\"start\" x=\"184\" y=\"-1094.6\">call</text>\n<text fill=\"#000000\" font-family=\"monospace\" font-size=\"8.00\" text-anchor=\"start\" x=\"210\" y=\"-1094.6\">0x8048600</text>\n<text fill=\"#c0c0c0\" font-family=\"monospace\" font-size=\"8.00\" text-anchor=\"start\" x=\"262\" y=\"-1094.6\">; spec_rand</text>\n</a>\n</g>\n</g>\n<!-- 86&#45;&gt;55 -->\n<g class=\"edge\" id=\"edge24\">\n<title>86-&gt;55</title>\n<path d=\"M218,-1174.9135C218,-1164.5011 218,-1152.7262 218,-1142.0135\" fill=\"none\" stroke=\"#0000ff\" stroke-dasharray=\"5,2\"/>\n<polygon fill=\"#0000ff\" points=\"221.5001,-1141.7446 218,-1131.7447 214.5001,-1141.7447 221.5001,-1141.7446\" stroke=\"#0000ff\"/>\n</g>\n<!-- 52 -->\n<g class=\"node\" id=\"node10\">\n<title>52</title>\n<g id=\"a_node10\"><a xlink:href=\"/api/cfg/0x8048380\" xlink:title=\"Click to navigate to function 0x8048380\">\n<path d=\"M12,-950.5C12,-950.5 340,-950.5 340,-950.5 346,-950.5 352,-956.5 352,-962.5 352,-962.5 352,-1036.5 352,-1036.5 352,-1042.5 346,-1048.5 340,-1048.5 340,-1048.5 12,-1048.5 12,-1048.5 6,-1048.5 0,-1042.5 0,-1036.5 0,-1036.5 0,-962.5 0,-962.5 0,-956.5 6,-950.5 12,-950.5\" fill=\"none\" stroke=\"#000000\"/>\n<text fill=\"#000000\" font-family=\"monospace\" font-size=\"8.00\" text-anchor=\"start\" x=\"93\" y=\"-1034.6\">0x804843d</text>\n<text fill=\"#000000\" font-family=\"monospace\" font-size=\"8.00\" text-anchor=\"start\" x=\"145\" y=\"-1034.6\">(0x80483a0)</text>\n<text fill=\"#000000\" font-family=\"monospace\" font-size=\"8.00\" font-weight=\"bold\" text-anchor=\"start\" x=\"207\" y=\"-1035.6\">main+0x9d</text>\n<polyline fill=\"none\" points=\"0,-1025.5 352,-1025.5 \" stroke=\"#000000\"/>\n<text fill=\"#000000\" font-family=\"monospace\" font-size=\"8.00\" text-anchor=\"start\" x=\"11\" y=\"-1011.6\">0x0804843d: </text>\n<text fill=\"#000000\" font-family=\"monospace\" font-size=\"8.00\" text-anchor=\"start\" x=\"79\" y=\"-1011.6\">add</text>\n<text fill=\"#000000\" font-family=\"monospace\" font-size=\"8.00\" text-anchor=\"start\" x=\"105\" y=\"-1011.6\">ebx, 1</text>\n<text fill=\"#000000\" font-family=\"monospace\" font-size=\"8.00\" text-anchor=\"start\" x=\"11\" y=\"-998.6\">0x08048440: </text>\n<text fill=\"#000000\" font-family=\"monospace\" font-size=\"8.00\" text-anchor=\"start\" x=\"79\" y=\"-998.6\">mov</text>\n<text fill=\"#000000\" font-family=\"monospace\" font-size=\"8.00\" text-anchor=\"start\" x=\"105\" y=\"-998.6\">dword ptr [esp + 4], 0x8048732</text>\n<text fill=\"#000000\" font-family=\"monospace\" font-size=\"8.00\" text-anchor=\"start\" x=\"11\" y=\"-985.6\">0x08048448: </text>\n<text fill=\"#000000\" font-family=\"monospace\" font-size=\"8.00\" text-anchor=\"start\" x=\"79\" y=\"-985.6\">mov</text>\n<text fill=\"#000000\" font-family=\"monospace\" font-size=\"8.00\" text-anchor=\"start\" x=\"105\" y=\"-985.6\">dword ptr [esp], 1</text>\n<text fill=\"#000000\" font-family=\"monospace\" font-size=\"8.00\" text-anchor=\"start\" x=\"11\" y=\"-972.6\">0x0804844f: </text>\n<text fill=\"#000000\" font-family=\"monospace\" font-size=\"8.00\" text-anchor=\"start\" x=\"79\" y=\"-972.6\">fstp</text>\n<text fill=\"#000000\" font-family=\"monospace\" font-size=\"8.00\" text-anchor=\"start\" x=\"105\" y=\"-972.6\">qword ptr [esp + 8]</text>\n<text fill=\"#000000\" font-family=\"monospace\" font-size=\"8.00\" text-anchor=\"start\" x=\"11\" y=\"-959.6\">0x08048453: </text>\n<text fill=\"#000000\" font-family=\"monospace\" font-size=\"8.00\" text-anchor=\"start\" x=\"79\" y=\"-959.6\">call</text>\n<text fill=\"#000000\" font-family=\"monospace\" font-size=\"8.00\" text-anchor=\"start\" x=\"105\" y=\"-959.6\">0x8048380</text>\n<text fill=\"#c0c0c0\" font-family=\"monospace\" font-size=\"8.00\" text-anchor=\"start\" x=\"267\" y=\"-959.6\">; __printf_chk</text>\n</a>\n</g>\n</g>\n<!-- 55&#45;&gt;52 -->\n<g class=\"edge\" id=\"edge17\">\n<title>55-&gt;52</title>\n<path d=\"M209.0929,-1085.3839C205.9543,-1077.2384 202.2689,-1067.6742 198.5187,-1057.9414\" fill=\"none\" stroke=\"#c0c0c0\" stroke-dasharray=\"1,5\"/>\n<polygon fill=\"#c0c0c0\" points=\"201.7805,-1056.6719 194.9189,-1048.5991 195.2486,-1059.1889 201.7805,-1056.6719\" stroke=\"#c0c0c0\"/>\n</g>\n<!-- 53 -->\n<g class=\"node\" id=\"node11\">\n<title>53</title>\n<path d=\"M214,-854.5C214,-854.5 378,-854.5 378,-854.5 384,-854.5 390,-860.5 390,-866.5 390,-866.5 390,-901.5 390,-901.5 390,-907.5 384,-913.5 378,-913.5 378,-913.5 214,-913.5 214,-913.5 208,-913.5 202,-907.5 202,-901.5 202,-901.5 202,-866.5 202,-866.5 202,-860.5 208,-854.5 214,-854.5\" fill=\"none\" stroke=\"#000000\"/>\n<text fill=\"#000000\" font-family=\"monospace\" font-size=\"8.00\" text-anchor=\"start\" x=\"213\" y=\"-899.6\">0x8048458</text>\n<text fill=\"#000000\" font-family=\"monospace\" font-size=\"8.00\" text-anchor=\"start\" x=\"265\" y=\"-899.6\">(0x80483a0)</text>\n<text fill=\"#000000\" font-family=\"monospace\" font-size=\"8.00\" font-weight=\"bold\" text-anchor=\"start\" x=\"327\" y=\"-900.6\">main+0xb8</text>\n<polyline fill=\"none\" points=\"202,-890.5 390,-890.5 \" stroke=\"#000000\"/>\n<text fill=\"#000000\" font-family=\"monospace\" font-size=\"8.00\" text-anchor=\"start\" x=\"226\" y=\"-877.1\">0x08048458: </text>\n<text fill=\"#000000\" font-family=\"monospace\" font-size=\"8.00\" text-anchor=\"start\" x=\"294\" y=\"-877.1\">cmp</text>\n<text fill=\"#000000\" font-family=\"monospace\" font-size=\"8.00\" text-anchor=\"start\" x=\"314\" y=\"-877.1\">ebx, esi</text>\n<text fill=\"#000000\" font-family=\"monospace\" font-size=\"8.00\" text-anchor=\"start\" x=\"226\" y=\"-864.1\">0x0804845a: </text>\n<text fill=\"#000000\" font-family=\"monospace\" font-size=\"8.00\" text-anchor=\"start\" x=\"294\" y=\"-864.1\">jne</text>\n<text fill=\"#000000\" font-family=\"monospace\" font-size=\"8.00\" text-anchor=\"start\" x=\"314\" y=\"-864.1\">0x8048438</text>\n</g>\n<!-- 52&#45;&gt;53 -->\n<g class=\"edge\" id=\"edge13\">\n<title>52-&gt;53</title>\n<path d=\"M227.2389,-950.1826C237.493,-940.313 248.096,-930.1076 257.815,-920.7531\" fill=\"none\" stroke=\"#c0c0c0\" stroke-dasharray=\"1,5\"/>\n<polygon fill=\"#c0c0c0\" points=\"260.2766,-923.2416 265.0544,-913.7852 255.4223,-918.1982 260.2766,-923.2416\" stroke=\"#c0c0c0\"/>\n</g>\n<!-- 53&#45;&gt;55 -->\n<g class=\"edge\" id=\"edge15\">\n<title>53-&gt;55</title>\n<path d=\"M334.9426,-913.6985C345.4176,-923.9346 355.3902,-936.3091 361,-950 377.6828,-990.7147 385.4159,-1012.3958 361,-1049 352.1032,-1062.338 339.5934,-1072.6906 325.6361,-1080.725\" fill=\"none\" stroke=\"#00ff00\"/>\n<polygon fill=\"#00ff00\" points=\"323.9651,-1077.6494 316.7781,-1085.4338 327.2509,-1083.8303 323.9651,-1077.6494\" stroke=\"#00ff00\"/>\n</g>\n<!-- 54 -->\n<g class=\"node\" id=\"node12\">\n<title>54</title>\n<g id=\"a_node12\"><a xlink:href=\"/api/cfg/0x8048380\" xlink:title=\"Click to navigate to function 0x8048380\">\n<path d=\"M132,-732.5C132,-732.5 460,-732.5 460,-732.5 466,-732.5 472,-738.5 472,-744.5 472,-744.5 472,-805.5 472,-805.5 472,-811.5 466,-817.5 460,-817.5 460,-817.5 132,-817.5 132,-817.5 126,-817.5 120,-811.5 120,-805.5 120,-805.5 120,-744.5 120,-744.5 120,-738.5 126,-732.5 132,-732.5\" fill=\"none\" stroke=\"#000000\"/>\n<text fill=\"#000000\" font-family=\"monospace\" font-size=\"8.00\" text-anchor=\"start\" x=\"213\" y=\"-803.6\">0x804845c</text>\n<text fill=\"#000000\" font-family=\"monospace\" font-size=\"8.00\" text-anchor=\"start\" x=\"265\" y=\"-803.6\">(0x80483a0)</text>\n<text fill=\"#000000\" font-family=\"monospace\" font-size=\"8.00\" font-weight=\"bold\" text-anchor=\"start\" x=\"327\" y=\"-804.6\">main+0xbc</text>\n<polyline fill=\"none\" points=\"120,-794.5 472,-794.5 \" stroke=\"#000000\"/>\n<text fill=\"#000000\" font-family=\"monospace\" font-size=\"8.00\" text-anchor=\"start\" x=\"131\" y=\"-781.1\">0x0804845c: </text>\n<text fill=\"#000000\" font-family=\"monospace\" font-size=\"8.00\" text-anchor=\"start\" x=\"199\" y=\"-781.1\">mov</text>\n<text fill=\"#000000\" font-family=\"monospace\" font-size=\"8.00\" text-anchor=\"start\" x=\"225\" y=\"-781.1\">dword ptr [esp + 4], 0x8048736</text>\n<text fill=\"#000000\" font-family=\"monospace\" font-size=\"8.00\" text-anchor=\"start\" x=\"131\" y=\"-768.1\">0x08048464: </text>\n<text fill=\"#000000\" font-family=\"monospace\" font-size=\"8.00\" text-anchor=\"start\" x=\"199\" y=\"-768.1\">xor</text>\n<text fill=\"#000000\" font-family=\"monospace\" font-size=\"8.00\" text-anchor=\"start\" x=\"225\" y=\"-768.1\">ebx, ebx</text>\n<text fill=\"#000000\" font-family=\"monospace\" font-size=\"8.00\" text-anchor=\"start\" x=\"131\" y=\"-755.1\">0x08048466: </text>\n<text fill=\"#000000\" font-family=\"monospace\" font-size=\"8.00\" text-anchor=\"start\" x=\"199\" y=\"-755.1\">mov</text>\n<text fill=\"#000000\" font-family=\"monospace\" font-size=\"8.00\" text-anchor=\"start\" x=\"225\" y=\"-755.1\">dword ptr [esp], 1</text>\n<text fill=\"#000000\" font-family=\"monospace\" font-size=\"8.00\" text-anchor=\"start\" x=\"131\" y=\"-742.1\">0x0804846d: </text>\n<text fill=\"#000000\" font-family=\"monospace\" font-size=\"8.00\" text-anchor=\"start\" x=\"199\" y=\"-742.1\">call</text>\n<text fill=\"#000000\" font-family=\"monospace\" font-size=\"8.00\" text-anchor=\"start\" x=\"225\" y=\"-742.1\">0x8048380</text>\n<text fill=\"#c0c0c0\" font-family=\"monospace\" font-size=\"8.00\" text-anchor=\"start\" x=\"387\" y=\"-742.1\">; __printf_chk</text>\n</a>\n</g>\n</g>\n<!-- 53&#45;&gt;54 -->\n<g class=\"edge\" id=\"edge14\">\n<title>53-&gt;54</title>\n<path d=\"M296,-854.2153C296,-846.0633 296,-836.9754 296,-827.9445\" fill=\"none\" stroke=\"#ff0000\"/>\n<polygon fill=\"#ff0000\" points=\"299.5001,-827.8254 296,-817.8255 292.5001,-827.8255 299.5001,-827.8254\" stroke=\"#ff0000\"/>\n</g>\n<!-- 87 -->\n<g class=\"node\" id=\"node13\">\n<title>87</title>\n<path d=\"M214,-649.5C214,-649.5 378,-649.5 378,-649.5 384,-649.5 390,-655.5 390,-661.5 390,-661.5 390,-683.5 390,-683.5 390,-689.5 384,-695.5 378,-695.5 378,-695.5 214,-695.5 214,-695.5 208,-695.5 202,-689.5 202,-683.5 202,-683.5 202,-661.5 202,-661.5 202,-655.5 208,-649.5 214,-649.5\" fill=\"none\" stroke=\"#000000\"/>\n<text fill=\"#000000\" font-family=\"monospace\" font-size=\"8.00\" text-anchor=\"start\" x=\"213\" y=\"-681.6\">0x8048472</text>\n<text fill=\"#000000\" font-family=\"monospace\" font-size=\"8.00\" text-anchor=\"start\" x=\"265\" y=\"-681.6\">(0x80483a0)</text>\n<text fill=\"#000000\" font-family=\"monospace\" font-size=\"8.00\" font-weight=\"bold\" text-anchor=\"start\" x=\"327\" y=\"-682.6\">main+0xd2</text>\n<polyline fill=\"none\" points=\"202,-672.5 390,-672.5 \" stroke=\"#000000\"/>\n<text fill=\"#000000\" font-family=\"monospace\" font-size=\"8.00\" text-anchor=\"start\" x=\"224\" y=\"-658.6\">0x08048472: </text>\n<text fill=\"#000000\" font-family=\"monospace\" font-size=\"8.00\" text-anchor=\"start\" x=\"292\" y=\"-658.6\">lea</text>\n<text fill=\"#000000\" font-family=\"monospace\" font-size=\"8.00\" text-anchor=\"start\" x=\"312\" y=\"-658.6\">esi, [esi]</text>\n</g>\n<!-- 54&#45;&gt;87 -->\n<g class=\"edge\" id=\"edge16\">\n<title>54-&gt;87</title>\n<path d=\"M296,-732.4212C296,-723.6035 296,-714.4331 296,-705.9952\" fill=\"none\" stroke=\"#c0c0c0\" stroke-dasharray=\"1,5\"/>\n<polygon fill=\"#c0c0c0\" points=\"299.5001,-705.7808 296,-695.7809 292.5001,-705.7809 299.5001,-705.7808\" stroke=\"#c0c0c0\"/>\n</g>\n<!-- 58 -->\n<g class=\"node\" id=\"node14\">\n<title>58</title>\n<g id=\"a_node14\"><a xlink:href=\"/api/cfg/0x8048600\" xlink:title=\"Click to navigate to function 0x8048600\">\n<path d=\"M195,-566.5C195,-566.5 397,-566.5 397,-566.5 403,-566.5 409,-572.5 409,-578.5 409,-578.5 409,-600.5 409,-600.5 409,-606.5 403,-612.5 397,-612.5 397,-612.5 195,-612.5 195,-612.5 189,-612.5 183,-606.5 183,-600.5 183,-600.5 183,-578.5 183,-578.5 183,-572.5 189,-566.5 195,-566.5\" fill=\"none\" stroke=\"#000000\"/>\n<text fill=\"#000000\" font-family=\"monospace\" font-size=\"8.00\" text-anchor=\"start\" x=\"213\" y=\"-598.6\">0x8048478</text>\n<text fill=\"#000000\" font-family=\"monospace\" font-size=\"8.00\" text-anchor=\"start\" x=\"265\" y=\"-598.6\">(0x80483a0)</text>\n<text fill=\"#000000\" font-family=\"monospace\" font-size=\"8.00\" font-weight=\"bold\" text-anchor=\"start\" x=\"327\" y=\"-599.6\">main+0xd8</text>\n<polyline fill=\"none\" points=\"183,-589.5 409,-589.5 \" stroke=\"#000000\"/>\n<text fill=\"#000000\" font-family=\"monospace\" font-size=\"8.00\" text-anchor=\"start\" x=\"194\" y=\"-575.6\">0x08048478: </text>\n<text fill=\"#000000\" font-family=\"monospace\" font-size=\"8.00\" text-anchor=\"start\" x=\"262\" y=\"-575.6\">call</text>\n<text fill=\"#000000\" font-family=\"monospace\" font-size=\"8.00\" text-anchor=\"start\" x=\"288\" y=\"-575.6\">0x8048600</text>\n<text fill=\"#c0c0c0\" font-family=\"monospace\" font-size=\"8.00\" text-anchor=\"start\" x=\"340\" y=\"-575.6\">; spec_rand</text>\n</a>\n</g>\n</g>\n<!-- 87&#45;&gt;58 -->\n<g class=\"edge\" id=\"edge25\">\n<title>87-&gt;58</title>\n<path d=\"M296,-649.3799C296,-641.1745 296,-631.7679 296,-622.8786\" fill=\"none\" stroke=\"#0000ff\" stroke-dasharray=\"5,2\"/>\n<polygon fill=\"#0000ff\" points=\"299.5001,-622.784 296,-612.784 292.5001,-622.784 299.5001,-622.784\" stroke=\"#0000ff\"/>\n</g>\n<!-- 56 -->\n<g class=\"node\" id=\"node15\">\n<title>56</title>\n<g id=\"a_node15\"><a xlink:href=\"/api/cfg/0x8048380\" xlink:title=\"Click to navigate to function 0x8048380\">\n<path d=\"M106,-327.5C106,-327.5 444,-327.5 444,-327.5 450,-327.5 456,-333.5 456,-339.5 456,-339.5 456,-517.5 456,-517.5 456,-523.5 450,-529.5 444,-529.5 444,-529.5 106,-529.5 106,-529.5 100,-529.5 94,-523.5 94,-517.5 94,-517.5 94,-339.5 94,-339.5 94,-333.5 100,-327.5 106,-327.5\" fill=\"none\" stroke=\"#000000\"/>\n<text fill=\"#000000\" font-family=\"monospace\" font-size=\"8.00\" text-anchor=\"start\" x=\"192\" y=\"-515.6\">0x804847d</text>\n<text fill=\"#000000\" font-family=\"monospace\" font-size=\"8.00\" text-anchor=\"start\" x=\"244\" y=\"-515.6\">(0x80483a0)</text>\n<text fill=\"#000000\" font-family=\"monospace\" font-size=\"8.00\" font-weight=\"bold\" text-anchor=\"start\" x=\"306\" y=\"-516.6\">main+0xdd</text>\n<polyline fill=\"none\" points=\"94,-506.5 456,-506.5 \" stroke=\"#000000\"/>\n<text fill=\"#000000\" font-family=\"monospace\" font-size=\"8.00\" text-anchor=\"start\" x=\"105\" y=\"-492.6\">0x0804847d: </text>\n<text fill=\"#000000\" font-family=\"monospace\" font-size=\"8.00\" text-anchor=\"start\" x=\"173\" y=\"-492.6\">add</text>\n<text fill=\"#000000\" font-family=\"monospace\" font-size=\"8.00\" text-anchor=\"start\" x=\"209\" y=\"-492.6\">ebx, 1</text>\n<text fill=\"#000000\" font-family=\"monospace\" font-size=\"8.00\" text-anchor=\"start\" x=\"105\" y=\"-479.6\">0x08048480: </text>\n<text fill=\"#000000\" font-family=\"monospace\" font-size=\"8.00\" text-anchor=\"start\" x=\"173\" y=\"-479.6\">mov</text>\n<text fill=\"#000000\" font-family=\"monospace\" font-size=\"8.00\" text-anchor=\"start\" x=\"209\" y=\"-479.6\">dword ptr [esp + 4], 0x804871f</text>\n<text fill=\"#000000\" font-family=\"monospace\" font-size=\"8.00\" text-anchor=\"start\" x=\"105\" y=\"-466.6\">0x08048488: </text>\n<text fill=\"#000000\" font-family=\"monospace\" font-size=\"8.00\" text-anchor=\"start\" x=\"173\" y=\"-466.6\">mov</text>\n<text fill=\"#000000\" font-family=\"monospace\" font-size=\"8.00\" text-anchor=\"start\" x=\"209\" y=\"-466.6\">dword ptr [esp], 1</text>\n<text fill=\"#000000\" font-family=\"monospace\" font-size=\"8.00\" text-anchor=\"start\" x=\"105\" y=\"-453.6\">0x0804848f: </text>\n<text fill=\"#000000\" font-family=\"monospace\" font-size=\"8.00\" text-anchor=\"start\" x=\"173\" y=\"-453.6\">fmul</text>\n<text fill=\"#000000\" font-family=\"monospace\" font-size=\"8.00\" text-anchor=\"start\" x=\"209\" y=\"-453.6\">dword ptr [0x8048754]</text>\n<text fill=\"#000000\" font-family=\"monospace\" font-size=\"8.00\" text-anchor=\"start\" x=\"105\" y=\"-440.6\">0x08048495: </text>\n<text fill=\"#000000\" font-family=\"monospace\" font-size=\"8.00\" text-anchor=\"start\" x=\"173\" y=\"-440.6\">fnstcw</text>\n<text fill=\"#000000\" font-family=\"monospace\" font-size=\"8.00\" text-anchor=\"start\" x=\"209\" y=\"-440.6\">word ptr [esp + 0x1e]</text>\n<text fill=\"#000000\" font-family=\"monospace\" font-size=\"8.00\" text-anchor=\"start\" x=\"105\" y=\"-427.6\">0x08048499: </text>\n<text fill=\"#000000\" font-family=\"monospace\" font-size=\"8.00\" text-anchor=\"start\" x=\"173\" y=\"-427.6\">movzx</text>\n<text fill=\"#000000\" font-family=\"monospace\" font-size=\"8.00\" text-anchor=\"start\" x=\"209\" y=\"-427.6\">eax, word ptr [esp + 0x1e]</text>\n<text fill=\"#000000\" font-family=\"monospace\" font-size=\"8.00\" text-anchor=\"start\" x=\"105\" y=\"-414.6\">0x0804849e: </text>\n<text fill=\"#000000\" font-family=\"monospace\" font-size=\"8.00\" text-anchor=\"start\" x=\"173\" y=\"-414.6\">fadd</text>\n<text fill=\"#000000\" font-family=\"monospace\" font-size=\"8.00\" text-anchor=\"start\" x=\"209\" y=\"-414.6\">dword ptr [0x8048758]</text>\n<text fill=\"#000000\" font-family=\"monospace\" font-size=\"8.00\" text-anchor=\"start\" x=\"105\" y=\"-401.6\">0x080484a4: </text>\n<text fill=\"#000000\" font-family=\"monospace\" font-size=\"8.00\" text-anchor=\"start\" x=\"173\" y=\"-401.6\">mov</text>\n<text fill=\"#000000\" font-family=\"monospace\" font-size=\"8.00\" text-anchor=\"start\" x=\"209\" y=\"-401.6\">ah, 0xc</text>\n<text fill=\"#000000\" font-family=\"monospace\" font-size=\"8.00\" text-anchor=\"start\" x=\"105\" y=\"-388.6\">0x080484a6: </text>\n<text fill=\"#000000\" font-family=\"monospace\" font-size=\"8.00\" text-anchor=\"start\" x=\"173\" y=\"-388.6\">mov</text>\n<text fill=\"#000000\" font-family=\"monospace\" font-size=\"8.00\" text-anchor=\"start\" x=\"209\" y=\"-388.6\">word ptr [esp + 0x1c], ax</text>\n<text fill=\"#000000\" font-family=\"monospace\" font-size=\"8.00\" text-anchor=\"start\" x=\"105\" y=\"-375.6\">0x080484ab: </text>\n<text fill=\"#000000\" font-family=\"monospace\" font-size=\"8.00\" text-anchor=\"start\" x=\"173\" y=\"-375.6\">fldcw</text>\n<text fill=\"#000000\" font-family=\"monospace\" font-size=\"8.00\" text-anchor=\"start\" x=\"209\" y=\"-375.6\">word ptr [esp + 0x1c]</text>\n<text fill=\"#000000\" font-family=\"monospace\" font-size=\"8.00\" text-anchor=\"start\" x=\"105\" y=\"-362.6\">0x080484af: </text>\n<text fill=\"#000000\" font-family=\"monospace\" font-size=\"8.00\" text-anchor=\"start\" x=\"173\" y=\"-362.6\">fistp</text>\n<text fill=\"#000000\" font-family=\"monospace\" font-size=\"8.00\" text-anchor=\"start\" x=\"209\" y=\"-362.6\">dword ptr [esp + 8]</text>\n<text fill=\"#000000\" font-family=\"monospace\" font-size=\"8.00\" text-anchor=\"start\" x=\"105\" y=\"-349.6\">0x080484b3: </text>\n<text fill=\"#000000\" font-family=\"monospace\" font-size=\"8.00\" text-anchor=\"start\" x=\"173\" y=\"-349.6\">fldcw</text>\n<text fill=\"#000000\" font-family=\"monospace\" font-size=\"8.00\" text-anchor=\"start\" x=\"209\" y=\"-349.6\">word ptr [esp + 0x1e]</text>\n<text fill=\"#000000\" font-family=\"monospace\" font-size=\"8.00\" text-anchor=\"start\" x=\"105\" y=\"-336.6\">0x080484b7: </text>\n<text fill=\"#000000\" font-family=\"monospace\" font-size=\"8.00\" text-anchor=\"start\" x=\"173\" y=\"-336.6\">call</text>\n<text fill=\"#000000\" font-family=\"monospace\" font-size=\"8.00\" text-anchor=\"start\" x=\"209\" y=\"-336.6\">0x8048380</text>\n<text fill=\"#c0c0c0\" font-family=\"monospace\" font-size=\"8.00\" text-anchor=\"start\" x=\"371\" y=\"-336.6\">; __printf_chk</text>\n</a>\n</g>\n</g>\n<!-- 58&#45;&gt;56 -->\n<g class=\"edge\" id=\"edge21\">\n<title>58-&gt;56</title>\n<path d=\"M292.9912,-566.4326C291.9875,-558.7376 290.7933,-549.5817 289.5043,-539.6998\" fill=\"none\" stroke=\"#c0c0c0\" stroke-dasharray=\"1,5\"/>\n<polygon fill=\"#c0c0c0\" points=\"292.9515,-539.0665 288.1874,-529.6032 286.0102,-539.9719 292.9515,-539.0665\" stroke=\"#c0c0c0\"/>\n</g>\n<!-- 57 -->\n<g class=\"node\" id=\"node16\">\n<title>57</title>\n<path d=\"M355.5,-231.5C355.5,-231.5 524.5,-231.5 524.5,-231.5 530.5,-231.5 536.5,-237.5 536.5,-243.5 536.5,-243.5 536.5,-278.5 536.5,-278.5 536.5,-284.5 530.5,-290.5 524.5,-290.5 524.5,-290.5 355.5,-290.5 355.5,-290.5 349.5,-290.5 343.5,-284.5 343.5,-278.5 343.5,-278.5 343.5,-243.5 343.5,-243.5 343.5,-237.5 349.5,-231.5 355.5,-231.5\" fill=\"none\" stroke=\"#000000\"/>\n<text fill=\"#000000\" font-family=\"monospace\" font-size=\"8.00\" text-anchor=\"start\" x=\"355\" y=\"-276.6\">0x80484bc</text>\n<text fill=\"#000000\" font-family=\"monospace\" font-size=\"8.00\" text-anchor=\"start\" x=\"407\" y=\"-276.6\">(0x80483a0)</text>\n<text fill=\"#000000\" font-family=\"monospace\" font-size=\"8.00\" font-weight=\"bold\" text-anchor=\"start\" x=\"469\" y=\"-277.6\">main+0x11c</text>\n<polyline fill=\"none\" points=\"343.5,-267.5 536.5,-267.5 \" stroke=\"#000000\"/>\n<text fill=\"#000000\" font-family=\"monospace\" font-size=\"8.00\" text-anchor=\"start\" x=\"370\" y=\"-254.1\">0x080484bc: </text>\n<text fill=\"#000000\" font-family=\"monospace\" font-size=\"8.00\" text-anchor=\"start\" x=\"438\" y=\"-254.1\">cmp</text>\n<text fill=\"#000000\" font-family=\"monospace\" font-size=\"8.00\" text-anchor=\"start\" x=\"458\" y=\"-254.1\">ebx, esi</text>\n<text fill=\"#000000\" font-family=\"monospace\" font-size=\"8.00\" text-anchor=\"start\" x=\"370\" y=\"-241.1\">0x080484be: </text>\n<text fill=\"#000000\" font-family=\"monospace\" font-size=\"8.00\" text-anchor=\"start\" x=\"438\" y=\"-241.1\">jne</text>\n<text fill=\"#000000\" font-family=\"monospace\" font-size=\"8.00\" text-anchor=\"start\" x=\"458\" y=\"-241.1\">0x8048478</text>\n</g>\n<!-- 56&#45;&gt;57 -->\n<g class=\"edge\" id=\"edge18\">\n<title>56-&gt;57</title>\n<path d=\"M374.7876,-327.2004C384.9678,-316.8661 394.7802,-306.9049 403.5666,-297.9854\" fill=\"none\" stroke=\"#c0c0c0\" stroke-dasharray=\"1,5\"/>\n<polygon fill=\"#c0c0c0\" points=\"406.1671,-300.3329 410.6914,-290.7526 401.1803,-295.4205 406.1671,-300.3329\" stroke=\"#c0c0c0\"/>\n</g>\n<!-- 57&#45;&gt;58 -->\n<g class=\"edge\" id=\"edge19\">\n<title>57-&gt;58</title>\n<path d=\"M454.3971,-290.9177C477.7829,-344.323 516.4985,-457.2718 465,-530 456.2817,-542.3123 429.906,-553.8368 400.506,-563.4027\" fill=\"none\" stroke=\"#00ff00\"/>\n<polygon fill=\"#00ff00\" points=\"399.3586,-560.0945 390.8729,-566.4382 401.4625,-566.7709 399.3586,-560.0945\" stroke=\"#00ff00\"/>\n</g>\n<!-- 85 -->\n<g class=\"node\" id=\"node17\">\n<title>85</title>\n<path d=\"M480.5,-148.5C480.5,-148.5 649.5,-148.5 649.5,-148.5 655.5,-148.5 661.5,-154.5 661.5,-160.5 661.5,-160.5 661.5,-182.5 661.5,-182.5 661.5,-188.5 655.5,-194.5 649.5,-194.5 649.5,-194.5 480.5,-194.5 480.5,-194.5 474.5,-194.5 468.5,-188.5 468.5,-182.5 468.5,-182.5 468.5,-160.5 468.5,-160.5 468.5,-154.5 474.5,-148.5 480.5,-148.5\" fill=\"none\" stroke=\"#000000\"/>\n<text fill=\"#000000\" font-family=\"monospace\" font-size=\"8.00\" text-anchor=\"start\" x=\"480\" y=\"-180.6\">0x80484c0</text>\n<text fill=\"#000000\" font-family=\"monospace\" font-size=\"8.00\" text-anchor=\"start\" x=\"532\" y=\"-180.6\">(0x80483a0)</text>\n<text fill=\"#000000\" font-family=\"monospace\" font-size=\"8.00\" font-weight=\"bold\" text-anchor=\"start\" x=\"594\" y=\"-181.6\">main+0x120</text>\n<polyline fill=\"none\" points=\"468.5,-171.5 661.5,-171.5 \" stroke=\"#000000\"/>\n<text fill=\"#000000\" font-family=\"monospace\" font-size=\"8.00\" text-anchor=\"start\" x=\"498\" y=\"-157.6\">0x080484c0: </text>\n<text fill=\"#000000\" font-family=\"monospace\" font-size=\"8.00\" text-anchor=\"start\" x=\"566\" y=\"-157.6\">xor</text>\n<text fill=\"#000000\" font-family=\"monospace\" font-size=\"8.00\" text-anchor=\"start\" x=\"586\" y=\"-157.6\">eax, eax</text>\n</g>\n<!-- 57&#45;&gt;85 -->\n<g class=\"edge\" id=\"edge20\">\n<title>57-&gt;85</title>\n<path d=\"M481.2761,-231.4463C495.1742,-221.4953 510.6611,-210.4066 524.4989,-200.4988\" fill=\"none\" stroke=\"#ff0000\"/>\n<polygon fill=\"#ff0000\" points=\"526.7797,-203.1705 532.8728,-194.5031 522.7045,-197.4789 526.7797,-203.1705\" stroke=\"#ff0000\"/>\n</g>\n<!-- 47 -->\n<g class=\"node\" id=\"node18\">\n<title>47</title>\n<path d=\"M559.5,-.5C559.5,-.5 734.5,-.5 734.5,-.5 740.5,-.5 746.5,-6.5 746.5,-12.5 746.5,-12.5 746.5,-99.5 746.5,-99.5 746.5,-105.5 740.5,-111.5 734.5,-111.5 734.5,-111.5 559.5,-111.5 559.5,-111.5 553.5,-111.5 547.5,-105.5 547.5,-99.5 547.5,-99.5 547.5,-12.5 547.5,-12.5 547.5,-6.5 553.5,-.5 559.5,-.5\" fill=\"none\" stroke=\"#000000\"/>\n<text fill=\"#000000\" font-family=\"monospace\" font-size=\"8.00\" text-anchor=\"start\" x=\"562\" y=\"-97.6\">0x80484c2</text>\n<text fill=\"#000000\" font-family=\"monospace\" font-size=\"8.00\" text-anchor=\"start\" x=\"614\" y=\"-97.6\">(0x80483a0)</text>\n<text fill=\"#000000\" font-family=\"monospace\" font-size=\"8.00\" font-weight=\"bold\" text-anchor=\"start\" x=\"676\" y=\"-98.6\">main+0x122</text>\n<polyline fill=\"none\" points=\"547.5,-88.5 746.5,-88.5 \" stroke=\"#000000\"/>\n<text fill=\"#000000\" font-family=\"monospace\" font-size=\"8.00\" text-anchor=\"start\" x=\"559\" y=\"-75.1\">0x080484c2: </text>\n<text fill=\"#000000\" font-family=\"monospace\" font-size=\"8.00\" text-anchor=\"start\" x=\"627\" y=\"-75.1\">lea</text>\n<text fill=\"#000000\" font-family=\"monospace\" font-size=\"8.00\" text-anchor=\"start\" x=\"647\" y=\"-75.1\">esp, [ebp - 0xc]</text>\n<text fill=\"#000000\" font-family=\"monospace\" font-size=\"8.00\" text-anchor=\"start\" x=\"559\" y=\"-62.1\">0x080484c5: </text>\n<text fill=\"#000000\" font-family=\"monospace\" font-size=\"8.00\" text-anchor=\"start\" x=\"627\" y=\"-62.1\">pop</text>\n<text fill=\"#000000\" font-family=\"monospace\" font-size=\"8.00\" text-anchor=\"start\" x=\"647\" y=\"-62.1\">ebx</text>\n<text fill=\"#000000\" font-family=\"monospace\" font-size=\"8.00\" text-anchor=\"start\" x=\"559\" y=\"-49.1\">0x080484c6: </text>\n<text fill=\"#000000\" font-family=\"monospace\" font-size=\"8.00\" text-anchor=\"start\" x=\"627\" y=\"-49.1\">pop</text>\n<text fill=\"#000000\" font-family=\"monospace\" font-size=\"8.00\" text-anchor=\"start\" x=\"647\" y=\"-49.1\">esi</text>\n<text fill=\"#000000\" font-family=\"monospace\" font-size=\"8.00\" text-anchor=\"start\" x=\"559\" y=\"-36.1\">0x080484c7: </text>\n<text fill=\"#000000\" font-family=\"monospace\" font-size=\"8.00\" text-anchor=\"start\" x=\"627\" y=\"-36.1\">pop</text>\n<text fill=\"#000000\" font-family=\"monospace\" font-size=\"8.00\" text-anchor=\"start\" x=\"647\" y=\"-36.1\">edi</text>\n<text fill=\"#000000\" font-family=\"monospace\" font-size=\"8.00\" text-anchor=\"start\" x=\"559\" y=\"-23.1\">0x080484c8: </text>\n<text fill=\"#000000\" font-family=\"monospace\" font-size=\"8.00\" text-anchor=\"start\" x=\"627\" y=\"-23.1\">pop</text>\n<text fill=\"#000000\" font-family=\"monospace\" font-size=\"8.00\" text-anchor=\"start\" x=\"647\" y=\"-23.1\">ebp</text>\n<text fill=\"#000000\" font-family=\"monospace\" font-size=\"8.00\" text-anchor=\"start\" x=\"559\" y=\"-10.1\">0x080484c9: </text>\n<text fill=\"#000000\" font-family=\"monospace\" font-size=\"8.00\" text-anchor=\"start\" x=\"627\" y=\"-10.1\">ret</text>\n</g>\n<!-- 85&#45;&gt;47 -->\n<g class=\"edge\" id=\"edge23\">\n<title>85-&gt;47</title>\n<path d=\"M581.3968,-148.4044C587.3712,-139.9893 594.4516,-130.0163 601.7134,-119.7879\" fill=\"none\" stroke=\"#0000ff\" stroke-dasharray=\"5,2\"/>\n<polygon fill=\"#0000ff\" points=\"604.6233,-121.7351 607.5584,-111.555 598.9154,-117.6828 604.6233,-121.7351\" stroke=\"#0000ff\"/>\n</g>\n<!-- 46 -->\n<g class=\"node\" id=\"node20\">\n<title>46</title>\n<path d=\"M625.5,-1604.5C625.5,-1604.5 794.5,-1604.5 794.5,-1604.5 800.5,-1604.5 806.5,-1610.5 806.5,-1616.5 806.5,-1616.5 806.5,-1651.5 806.5,-1651.5 806.5,-1657.5 800.5,-1663.5 794.5,-1663.5 794.5,-1663.5 625.5,-1663.5 625.5,-1663.5 619.5,-1663.5 613.5,-1657.5 613.5,-1651.5 613.5,-1651.5 613.5,-1616.5 613.5,-1616.5 613.5,-1610.5 619.5,-1604.5 625.5,-1604.5\" fill=\"none\" stroke=\"#000000\"/>\n<text fill=\"#000000\" font-family=\"monospace\" font-size=\"8.00\" text-anchor=\"start\" x=\"625\" y=\"-1649.6\">0x80484d6</text>\n<text fill=\"#000000\" font-family=\"monospace\" font-size=\"8.00\" text-anchor=\"start\" x=\"677\" y=\"-1649.6\">(0x80483a0)</text>\n<text fill=\"#000000\" font-family=\"monospace\" font-size=\"8.00\" font-weight=\"bold\" text-anchor=\"start\" x=\"739\" y=\"-1650.6\">main+0x136</text>\n<polyline fill=\"none\" points=\"613.5,-1640.5 806.5,-1640.5 \" stroke=\"#000000\"/>\n<text fill=\"#000000\" font-family=\"monospace\" font-size=\"8.00\" text-anchor=\"start\" x=\"640\" y=\"-1627.1\">0x080484d6: </text>\n<text fill=\"#000000\" font-family=\"monospace\" font-size=\"8.00\" text-anchor=\"start\" x=\"708\" y=\"-1627.1\">mov</text>\n<text fill=\"#000000\" font-family=\"monospace\" font-size=\"8.00\" text-anchor=\"start\" x=\"728\" y=\"-1627.1\">eax, 1</text>\n<text fill=\"#000000\" font-family=\"monospace\" font-size=\"8.00\" text-anchor=\"start\" x=\"640\" y=\"-1614.1\">0x080484db: </text>\n<text fill=\"#000000\" font-family=\"monospace\" font-size=\"8.00\" text-anchor=\"start\" x=\"708\" y=\"-1614.1\">jmp</text>\n<text fill=\"#000000\" font-family=\"monospace\" font-size=\"8.00\" text-anchor=\"start\" x=\"728\" y=\"-1614.1\">0x80484c2</text>\n</g>\n<!-- 13&#45;&gt;46 -->\n<g class=\"edge\" id=\"edge3\">\n<title>13-&gt;46</title>\n<path d=\"M710,-1893.8789C710,-1841.5395 710,-1732.6856 710,-1673.8326\" fill=\"none\" stroke=\"#c0c0c0\" stroke-dasharray=\"1,5\"/>\n<polygon fill=\"#c0c0c0\" points=\"713.5001,-1673.7956 710,-1663.7956 706.5001,-1673.7956 713.5001,-1673.7956\" stroke=\"#c0c0c0\"/>\n</g>\n<!-- 46&#45;&gt;47 -->\n<g class=\"edge\" id=\"edge7\">\n<title>46-&gt;47</title>\n<path d=\"M710,-1604.4635C710,-1560.5358 710,-1475.388 710,-1403 710,-1403 710,-1403 710,-261 710,-212.5702 693.7359,-160.4314 677.7351,-120.8553\" fill=\"none\" stroke=\"#0000ff\"/>\n<polygon fill=\"#0000ff\" points=\"680.9579,-119.4896 673.9004,-111.5876 674.4897,-122.166 680.9579,-119.4896\" stroke=\"#0000ff\"/>\n</g>\n<!-- 59 -->\n<g class=\"node\" id=\"node22\">\n<title>59</title>\n<path d=\"M461.5,-976.5C461.5,-976.5 630.5,-976.5 630.5,-976.5 636.5,-976.5 642.5,-982.5 642.5,-988.5 642.5,-988.5 642.5,-1010.5 642.5,-1010.5 642.5,-1016.5 636.5,-1022.5 630.5,-1022.5 630.5,-1022.5 461.5,-1022.5 461.5,-1022.5 455.5,-1022.5 449.5,-1016.5 449.5,-1010.5 449.5,-1010.5 449.5,-988.5 449.5,-988.5 449.5,-982.5 455.5,-976.5 461.5,-976.5\" fill=\"none\" stroke=\"#000000\"/>\n<text fill=\"#000000\" font-family=\"monospace\" font-size=\"8.00\" text-anchor=\"start\" x=\"461\" y=\"-1008.6\">0x80484f1</text>\n<text fill=\"#000000\" font-family=\"monospace\" font-size=\"8.00\" text-anchor=\"start\" x=\"513\" y=\"-1008.6\">(0x80483a0)</text>\n<text fill=\"#000000\" font-family=\"monospace\" font-size=\"8.00\" font-weight=\"bold\" text-anchor=\"start\" x=\"575\" y=\"-1009.6\">main+0x151</text>\n<polyline fill=\"none\" points=\"449.5,-999.5 642.5,-999.5 \" stroke=\"#000000\"/>\n<text fill=\"#000000\" font-family=\"monospace\" font-size=\"8.00\" text-anchor=\"start\" x=\"476\" y=\"-985.6\">0x080484f1: </text>\n<text fill=\"#000000\" font-family=\"monospace\" font-size=\"8.00\" text-anchor=\"start\" x=\"544\" y=\"-985.6\">jmp</text>\n<text fill=\"#000000\" font-family=\"monospace\" font-size=\"8.00\" text-anchor=\"start\" x=\"564\" y=\"-985.6\">0x80484c0</text>\n</g>\n<!-- 51&#45;&gt;59 -->\n<g class=\"edge\" id=\"edge12\">\n<title>51-&gt;59</title>\n<path d=\"M513.0591,-1168.322C520.5624,-1129.8678 532.3242,-1069.5884 539.5759,-1032.4234\" fill=\"none\" stroke=\"#c0c0c0\" stroke-dasharray=\"1,5\"/>\n<polygon fill=\"#c0c0c0\" points=\"543.0144,-1033.0765 541.4944,-1022.5912 536.144,-1031.7358 543.0144,-1033.0765\" stroke=\"#c0c0c0\"/>\n</g>\n<!-- 59&#45;&gt;85 -->\n<g class=\"edge\" id=\"edge22\">\n<title>59-&gt;85</title>\n<path d=\"M549.2662,-976.2852C554.6986,-935.6012 565,-848.7318 565,-775 565,-775 565,-775 565,-428.5 565,-348.0659 565,-253.4717 565,-204.546\" fill=\"none\" stroke=\"#0000ff\"/>\n<polygon fill=\"#0000ff\" points=\"568.5001,-204.5374 565,-194.5374 561.5001,-204.5375 568.5001,-204.5374\" stroke=\"#0000ff\"/>\n</g>\n</g>\n</svg>"
     },
     "metadata": {}
    }
   ],
   "source": [
    "from IPython.core.display import SVG\n",
    "display(SVG('test.svg'))"
   ]
  },
  {
   "cell_type": "markdown",
   "metadata": {},
   "source": [
    "There are also a bunch of formats that `cfg_explore` can handle. The only thing you need to do is to specify proper suffix (i.e. extension name) in path which is passed as`output` argument.\n",
    "\n",
    "Current supported formats are listed as below:"
   ]
  },
  {
   "cell_type": "code",
   "execution_count": 6,
   "metadata": {
    "ExecuteTime": {
     "end_time": "2020-08-08T00:30:29.028024Z",
     "start_time": "2020-08-08T00:30:29.019816Z"
    }
   },
   "outputs": [],
   "source": [
    "formats = [\n",
    "    'canon', 'cmap', 'cmapx', 'cmapx_np', 'dot', 'fig', 'gd', 'gd2', 'gif',\n",
    "    'imap', 'imap_np', 'ismap', 'jpe', 'jpeg', 'jpg', 'mp', 'pdf', 'plain',\n",
    "    'plain-ext', 'png', 'ps', 'ps2', 'svg', 'svgz', 'vml', 'vmlz', 'vrml',\n",
    "    'wbmp', 'xdot', 'raw'\n",
    "]"
   ]
  },
  {
   "cell_type": "markdown",
   "metadata": {},
   "source": [
    "Try all formats by:"
   ]
  },
  {
   "cell_type": "code",
   "execution_count": 7,
   "metadata": {
    "ExecuteTime": {
     "end_time": "2020-08-08T00:26:24.462091Z",
     "start_time": "2020-08-08T00:26:14.636400Z"
    },
    "scrolled": false,
    "tags": [
     "outputPrepend"
    ]
   },
   "outputs": [
    {
     "output_type": "stream",
     "name": "stderr",
     "text": [
      "0x0 (not part of a loaded object)\u001b[0m\n",
      "WARNING | 2021-02-24 17:56:31,907 | \u001b[32mangr.storage.memory_mixins.default_filler_mixin\u001b[0m | \u001b[32mFilling register gs with 4 unconstrained bytes referenced from 0x0 (not part of a loaded object)\u001b[0m\n",
      "N/A% |                                   | Elapsed Time: 0:00:00 ETA:  --:--:--WARNING | 2021-02-24 17:56:31,948 | \u001b[32mangr.storage.memory_mixins.default_filler_mixin\u001b[0m | \u001b[32mFilling register eax with 4 unconstrained bytes referenced from 0x80484fb (_start+0x8 in specrand_base.i386 (0x80484fb))\u001b[0m\n",
      "WARNING | 2021-02-24 17:56:31,950 | \u001b[32mangr.storage.memory_mixins.default_filler_mixin\u001b[0m | \u001b[32mFilling register edx with 4 unconstrained bytes referenced from 0x80484fd (_start+0xa in specrand_base.i386 (0x80484fd))\u001b[0m\n",
      "100% |###################################| Elapsed Time: 0:00:00 Time:  0:00:00\n",
      "WARNING | 2021-02-24 17:56:32,206 | \u001b[34mangr.analyses.cfg.cfg_fast\u001b[0m | \u001b[34m\"collect_data_references\" is deprecated and will be removed soon. Please use \"data_references\" instead\u001b[0m\n",
      "WARNING | 2021-02-24 17:56:32,209 | \u001b[32mangr.storage.memory_mixins.default_filler_mixin\u001b[0m | \u001b[32mFilling register es with 4 unconstrained bytes referenced from 0x0 (not part of a loaded object)\u001b[0m\n",
      "WARNING | 2021-02-24 17:56:32,210 | \u001b[32mangr.storage.memory_mixins.default_filler_mixin\u001b[0m | \u001b[32mFilling register gs with 4 unconstrained bytes referenced from 0x0 (not part of a loaded object)\u001b[0m\n",
      "N/A% |                                   | Elapsed Time: 0:00:00 ETA:  --:--:--WARNING | 2021-02-24 17:56:32,252 | \u001b[32mangr.storage.memory_mixins.default_filler_mixin\u001b[0m | \u001b[32mFilling register eax with 4 unconstrained bytes referenced from 0x80484fb (_start+0x8 in specrand_base.i386 (0x80484fb))\u001b[0m\n",
      "WARNING | 2021-02-24 17:56:32,254 | \u001b[32mangr.storage.memory_mixins.default_filler_mixin\u001b[0m | \u001b[32mFilling register edx with 4 unconstrained bytes referenced from 0x80484fd (_start+0xa in specrand_base.i386 (0x80484fd))\u001b[0m\n",
      "100% |###################################| Elapsed Time: 0:00:00 Time:  0:00:00\n",
      "WARNING | 2021-02-24 17:56:32,609 | \u001b[34mangr.analyses.cfg.cfg_fast\u001b[0m | \u001b[34m\"collect_data_references\" is deprecated and will be removed soon. Please use \"data_references\" instead\u001b[0m\n",
      "WARNING | 2021-02-24 17:56:32,612 | \u001b[32mangr.storage.memory_mixins.default_filler_mixin\u001b[0m | \u001b[32mFilling register es with 4 unconstrained bytes referenced from 0x0 (not part of a loaded object)\u001b[0m\n",
      "WARNING | 2021-02-24 17:56:32,613 | \u001b[32mangr.storage.memory_mixins.default_filler_mixin\u001b[0m | \u001b[32mFilling register gs with 4 unconstrained bytes referenced from 0x0 (not part of a loaded object)\u001b[0m\n",
      "N/A% |                                   | Elapsed Time: 0:00:00 ETA:  --:--:--WARNING | 2021-02-24 17:56:32,654 | \u001b[32mangr.storage.memory_mixins.default_filler_mixin\u001b[0m | \u001b[32mFilling register eax with 4 unconstrained bytes referenced from 0x80484fb (_start+0x8 in specrand_base.i386 (0x80484fb))\u001b[0m\n",
      "WARNING | 2021-02-24 17:56:32,655 | \u001b[32mangr.storage.memory_mixins.default_filler_mixin\u001b[0m | \u001b[32mFilling register edx with 4 unconstrained bytes referenced from 0x80484fd (_start+0xa in specrand_base.i386 (0x80484fd))\u001b[0m\n",
      "100% |###################################| Elapsed Time: 0:00:00 Time:  0:00:00\n",
      "WARNING | 2021-02-24 17:56:32,890 | \u001b[34mangr.analyses.cfg.cfg_fast\u001b[0m | \u001b[34m\"collect_data_references\" is deprecated and will be removed soon. Please use \"data_references\" instead\u001b[0m\n",
      "WARNING | 2021-02-24 17:56:32,893 | \u001b[32mangr.storage.memory_mixins.default_filler_mixin\u001b[0m | \u001b[32mFilling register es with 4 unconstrained bytes referenced from 0x0 (not part of a loaded object)\u001b[0m\n",
      "WARNING | 2021-02-24 17:56:32,894 | \u001b[32mangr.storage.memory_mixins.default_filler_mixin\u001b[0m | \u001b[32mFilling register gs with 4 unconstrained bytes referenced from 0x0 (not part of a loaded object)\u001b[0m\n",
      "N/A% |                                   | Elapsed Time: 0:00:00 ETA:  --:--:--WARNING | 2021-02-24 17:56:32,936 | \u001b[32mangr.storage.memory_mixins.default_filler_mixin\u001b[0m | \u001b[32mFilling register eax with 4 unconstrained bytes referenced from 0x80484fb (_start+0x8 in specrand_base.i386 (0x80484fb))\u001b[0m\n",
      "WARNING | 2021-02-24 17:56:32,937 | \u001b[32mangr.storage.memory_mixins.default_filler_mixin\u001b[0m | \u001b[32mFilling register edx with 4 unconstrained bytes referenced from 0x80484fd (_start+0xa in specrand_base.i386 (0x80484fd))\u001b[0m\n",
      "100% |###################################| Elapsed Time: 0:00:00 Time:  0:00:00\n",
      "WARNING | 2021-02-24 17:56:33,188 | \u001b[34mangr.analyses.cfg.cfg_fast\u001b[0m | \u001b[34m\"collect_data_references\" is deprecated and will be removed soon. Please use \"data_references\" instead\u001b[0m\n",
      "WARNING | 2021-02-24 17:56:33,191 | \u001b[32mangr.storage.memory_mixins.default_filler_mixin\u001b[0m | \u001b[32mFilling register es with 4 unconstrained bytes referenced from 0x0 (not part of a loaded object)\u001b[0m\n",
      "WARNING | 2021-02-24 17:56:33,192 | \u001b[32mangr.storage.memory_mixins.default_filler_mixin\u001b[0m | \u001b[32mFilling register gs with 4 unconstrained bytes referenced from 0x0 (not part of a loaded object)\u001b[0m\n",
      "N/A% |                                   | Elapsed Time: 0:00:00 ETA:  --:--:--WARNING | 2021-02-24 17:56:33,236 | \u001b[32mangr.storage.memory_mixins.default_filler_mixin\u001b[0m | \u001b[32mFilling register eax with 4 unconstrained bytes referenced from 0x80484fb (_start+0x8 in specrand_base.i386 (0x80484fb))\u001b[0m\n",
      "WARNING | 2021-02-24 17:56:33,238 | \u001b[32mangr.storage.memory_mixins.default_filler_mixin\u001b[0m | \u001b[32mFilling register edx with 4 unconstrained bytes referenced from 0x80484fd (_start+0xa in specrand_base.i386 (0x80484fd))\u001b[0m\n",
      "100% |###################################| Elapsed Time: 0:00:00 Time:  0:00:00\n",
      "WARNING | 2021-02-24 17:56:33,502 | \u001b[34mangr.analyses.cfg.cfg_fast\u001b[0m | \u001b[34m\"collect_data_references\" is deprecated and will be removed soon. Please use \"data_references\" instead\u001b[0m\n",
      "WARNING | 2021-02-24 17:56:33,505 | \u001b[32mangr.storage.memory_mixins.default_filler_mixin\u001b[0m | \u001b[32mFilling register es with 4 unconstrained bytes referenced from 0x0 (not part of a loaded object)\u001b[0m\n",
      "WARNING | 2021-02-24 17:56:33,506 | \u001b[32mangr.storage.memory_mixins.default_filler_mixin\u001b[0m | \u001b[32mFilling register gs with 4 unconstrained bytes referenced from 0x0 (not part of a loaded object)\u001b[0m\n",
      "N/A% |                                   | Elapsed Time: 0:00:00 ETA:  --:--:--WARNING | 2021-02-24 17:56:33,549 | \u001b[32mangr.storage.memory_mixins.default_filler_mixin\u001b[0m | \u001b[32mFilling register eax with 4 unconstrained bytes referenced from 0x80484fb (_start+0x8 in specrand_base.i386 (0x80484fb))\u001b[0m\n",
      "WARNING | 2021-02-24 17:56:33,551 | \u001b[32mangr.storage.memory_mixins.default_filler_mixin\u001b[0m | \u001b[32mFilling register edx with 4 unconstrained bytes referenced from 0x80484fd (_start+0xa in specrand_base.i386 (0x80484fd))\u001b[0m\n",
      "100% |###################################| Elapsed Time: 0:00:00 Time:  0:00:00\n",
      "WARNING | 2021-02-24 17:56:33,807 | \u001b[34mangr.analyses.cfg.cfg_fast\u001b[0m | \u001b[34m\"collect_data_references\" is deprecated and will be removed soon. Please use \"data_references\" instead\u001b[0m\n",
      "WARNING | 2021-02-24 17:56:33,810 | \u001b[32mangr.storage.memory_mixins.default_filler_mixin\u001b[0m | \u001b[32mFilling register es with 4 unconstrained bytes referenced from 0x0 (not part of a loaded object)\u001b[0m\n",
      "WARNING | 2021-02-24 17:56:33,812 | \u001b[32mangr.storage.memory_mixins.default_filler_mixin\u001b[0m | \u001b[32mFilling register gs with 4 unconstrained bytes referenced from 0x0 (not part of a loaded object)\u001b[0m\n",
      "N/A% |                                   | Elapsed Time: 0:00:00 ETA:  --:--:--WARNING | 2021-02-24 17:56:33,853 | \u001b[32mangr.storage.memory_mixins.default_filler_mixin\u001b[0m | \u001b[32mFilling register eax with 4 unconstrained bytes referenced from 0x80484fb (_start+0x8 in specrand_base.i386 (0x80484fb))\u001b[0m\n",
      "WARNING | 2021-02-24 17:56:33,855 | \u001b[32mangr.storage.memory_mixins.default_filler_mixin\u001b[0m | \u001b[32mFilling register edx with 4 unconstrained bytes referenced from 0x80484fd (_start+0xa in specrand_base.i386 (0x80484fd))\u001b[0m\n",
      "100% |###################################| Elapsed Time: 0:00:00 Time:  0:00:00\n",
      "WARNING | 2021-02-24 17:56:34,213 | \u001b[34mangr.analyses.cfg.cfg_fast\u001b[0m | \u001b[34m\"collect_data_references\" is deprecated and will be removed soon. Please use \"data_references\" instead\u001b[0m\n",
      "WARNING | 2021-02-24 17:56:34,216 | \u001b[32mangr.storage.memory_mixins.default_filler_mixin\u001b[0m | \u001b[32mFilling register es with 4 unconstrained bytes referenced from 0x0 (not part of a loaded object)\u001b[0m\n",
      "WARNING | 2021-02-24 17:56:34,217 | \u001b[32mangr.storage.memory_mixins.default_filler_mixin\u001b[0m | \u001b[32mFilling register gs with 4 unconstrained bytes referenced from 0x0 (not part of a loaded object)\u001b[0m\n",
      "N/A% |                                   | Elapsed Time: 0:00:00 ETA:  --:--:--WARNING | 2021-02-24 17:56:34,259 | \u001b[32mangr.storage.memory_mixins.default_filler_mixin\u001b[0m | \u001b[32mFilling register eax with 4 unconstrained bytes referenced from 0x80484fb (_start+0x8 in specrand_base.i386 (0x80484fb))\u001b[0m\n",
      "WARNING | 2021-02-24 17:56:34,261 | \u001b[32mangr.storage.memory_mixins.default_filler_mixin\u001b[0m | \u001b[32mFilling register edx with 4 unconstrained bytes referenced from 0x80484fd (_start+0xa in specrand_base.i386 (0x80484fd))\u001b[0m\n",
      "100% |###################################| Elapsed Time: 0:00:00 Time:  0:00:00\n",
      "WARNING | 2021-02-24 17:56:34,521 | \u001b[34mangr.analyses.cfg.cfg_fast\u001b[0m | \u001b[34m\"collect_data_references\" is deprecated and will be removed soon. Please use \"data_references\" instead\u001b[0m\n",
      "WARNING | 2021-02-24 17:56:34,523 | \u001b[32mangr.storage.memory_mixins.default_filler_mixin\u001b[0m | \u001b[32mFilling register es with 4 unconstrained bytes referenced from 0x0 (not part of a loaded object)\u001b[0m\n",
      "WARNING | 2021-02-24 17:56:34,525 | \u001b[32mangr.storage.memory_mixins.default_filler_mixin\u001b[0m | \u001b[32mFilling register gs with 4 unconstrained bytes referenced from 0x0 (not part of a loaded object)\u001b[0m\n",
      "N/A% |                                   | Elapsed Time: 0:00:00 ETA:  --:--:--WARNING | 2021-02-24 17:56:34,566 | \u001b[32mangr.storage.memory_mixins.default_filler_mixin\u001b[0m | \u001b[32mFilling register eax with 4 unconstrained bytes referenced from 0x80484fb (_start+0x8 in specrand_base.i386 (0x80484fb))\u001b[0m\n",
      "WARNING | 2021-02-24 17:56:34,568 | \u001b[32mangr.storage.memory_mixins.default_filler_mixin\u001b[0m | \u001b[32mFilling register edx with 4 unconstrained bytes referenced from 0x80484fd (_start+0xa in specrand_base.i386 (0x80484fd))\u001b[0m\n",
      "100% |###################################| Elapsed Time: 0:00:00 Time:  0:00:00\n",
      "WARNING | 2021-02-24 17:56:34,926 | \u001b[34mangr.analyses.cfg.cfg_fast\u001b[0m | \u001b[34m\"collect_data_references\" is deprecated and will be removed soon. Please use \"data_references\" instead\u001b[0m\n",
      "WARNING | 2021-02-24 17:56:34,929 | \u001b[32mangr.storage.memory_mixins.default_filler_mixin\u001b[0m | \u001b[32mFilling register es with 4 unconstrained bytes referenced from 0x0 (not part of a loaded object)\u001b[0m\n",
      "WARNING | 2021-02-24 17:56:34,930 | \u001b[32mangr.storage.memory_mixins.default_filler_mixin\u001b[0m | \u001b[32mFilling register gs with 4 unconstrained bytes referenced from 0x0 (not part of a loaded object)\u001b[0m\n",
      "N/A% |                                   | Elapsed Time: 0:00:00 ETA:  --:--:--WARNING | 2021-02-24 17:56:34,971 | \u001b[32mangr.storage.memory_mixins.default_filler_mixin\u001b[0m | \u001b[32mFilling register eax with 4 unconstrained bytes referenced from 0x80484fb (_start+0x8 in specrand_base.i386 (0x80484fb))\u001b[0m\n",
      "WARNING | 2021-02-24 17:56:34,973 | \u001b[32mangr.storage.memory_mixins.default_filler_mixin\u001b[0m | \u001b[32mFilling register edx with 4 unconstrained bytes referenced from 0x80484fd (_start+0xa in specrand_base.i386 (0x80484fd))\u001b[0m\n",
      "100% |###################################| Elapsed Time: 0:00:00 Time:  0:00:00\n",
      "WARNING | 2021-02-24 17:56:35,249 | \u001b[34mangr.analyses.cfg.cfg_fast\u001b[0m | \u001b[34m\"collect_data_references\" is deprecated and will be removed soon. Please use \"data_references\" instead\u001b[0m\n",
      "WARNING | 2021-02-24 17:56:35,253 | \u001b[32mangr.storage.memory_mixins.default_filler_mixin\u001b[0m | \u001b[32mFilling register es with 4 unconstrained bytes referenced from 0x0 (not part of a loaded object)\u001b[0m\n",
      "WARNING | 2021-02-24 17:56:35,254 | \u001b[32mangr.storage.memory_mixins.default_filler_mixin\u001b[0m | \u001b[32mFilling register gs with 4 unconstrained bytes referenced from 0x0 (not part of a loaded object)\u001b[0m\n",
      "N/A% |                                   | Elapsed Time: 0:00:00 ETA:  --:--:--WARNING | 2021-02-24 17:56:35,297 | \u001b[32mangr.storage.memory_mixins.default_filler_mixin\u001b[0m | \u001b[32mFilling register eax with 4 unconstrained bytes referenced from 0x80484fb (_start+0x8 in specrand_base.i386 (0x80484fb))\u001b[0m\n",
      "WARNING | 2021-02-24 17:56:35,298 | \u001b[32mangr.storage.memory_mixins.default_filler_mixin\u001b[0m | \u001b[32mFilling register edx with 4 unconstrained bytes referenced from 0x80484fd (_start+0xa in specrand_base.i386 (0x80484fd))\u001b[0m\n",
      "100% |###################################| Elapsed Time: 0:00:00 Time:  0:00:00\n",
      "WARNING | 2021-02-24 17:56:35,571 | \u001b[34mangr.analyses.cfg.cfg_fast\u001b[0m | \u001b[34m\"collect_data_references\" is deprecated and will be removed soon. Please use \"data_references\" instead\u001b[0m\n",
      "WARNING | 2021-02-24 17:56:35,575 | \u001b[32mangr.storage.memory_mixins.default_filler_mixin\u001b[0m | \u001b[32mFilling register es with 4 unconstrained bytes referenced from 0x0 (not part of a loaded object)\u001b[0m\n",
      "WARNING | 2021-02-24 17:56:35,576 | \u001b[32mangr.storage.memory_mixins.default_filler_mixin\u001b[0m | \u001b[32mFilling register gs with 4 unconstrained bytes referenced from 0x0 (not part of a loaded object)\u001b[0m\n",
      "N/A% |                                   | Elapsed Time: 0:00:00 ETA:  --:--:--WARNING | 2021-02-24 17:56:35,618 | \u001b[32mangr.storage.memory_mixins.default_filler_mixin\u001b[0m | \u001b[32mFilling register eax with 4 unconstrained bytes referenced from 0x80484fb (_start+0x8 in specrand_base.i386 (0x80484fb))\u001b[0m\n",
      "WARNING | 2021-02-24 17:56:35,619 | \u001b[32mangr.storage.memory_mixins.default_filler_mixin\u001b[0m | \u001b[32mFilling register edx with 4 unconstrained bytes referenced from 0x80484fd (_start+0xa in specrand_base.i386 (0x80484fd))\u001b[0m\n",
      "100% |###################################| Elapsed Time: 0:00:00 Time:  0:00:00\n",
      "WARNING | 2021-02-24 17:56:35,906 | \u001b[34mangr.analyses.cfg.cfg_fast\u001b[0m | \u001b[34m\"collect_data_references\" is deprecated and will be removed soon. Please use \"data_references\" instead\u001b[0m\n",
      "WARNING | 2021-02-24 17:56:35,910 | \u001b[32mangr.storage.memory_mixins.default_filler_mixin\u001b[0m | \u001b[32mFilling register es with 4 unconstrained bytes referenced from 0x0 (not part of a loaded object)\u001b[0m\n",
      "WARNING | 2021-02-24 17:56:35,911 | \u001b[32mangr.storage.memory_mixins.default_filler_mixin\u001b[0m | \u001b[32mFilling register gs with 4 unconstrained bytes referenced from 0x0 (not part of a loaded object)\u001b[0m\n",
      "N/A% |                                   | Elapsed Time: 0:00:00 ETA:  --:--:--WARNING | 2021-02-24 17:56:35,962 | \u001b[32mangr.storage.memory_mixins.default_filler_mixin\u001b[0m | \u001b[32mFilling register eax with 4 unconstrained bytes referenced from 0x80484fb (_start+0x8 in specrand_base.i386 (0x80484fb))\u001b[0m\n",
      "WARNING | 2021-02-24 17:56:35,964 | \u001b[32mangr.storage.memory_mixins.default_filler_mixin\u001b[0m | \u001b[32mFilling register edx with 4 unconstrained bytes referenced from 0x80484fd (_start+0xa in specrand_base.i386 (0x80484fd))\u001b[0m\n",
      "100% |###################################| Elapsed Time: 0:00:00 Time:  0:00:00\n",
      "WARNING | 2021-02-24 17:56:36,267 | \u001b[34mangr.analyses.cfg.cfg_fast\u001b[0m | \u001b[34m\"collect_data_references\" is deprecated and will be removed soon. Please use \"data_references\" instead\u001b[0m\n",
      "WARNING | 2021-02-24 17:56:36,271 | \u001b[32mangr.storage.memory_mixins.default_filler_mixin\u001b[0m | \u001b[32mFilling register es with 4 unconstrained bytes referenced from 0x0 (not part of a loaded object)\u001b[0m\n",
      "WARNING | 2021-02-24 17:56:36,272 | \u001b[32mangr.storage.memory_mixins.default_filler_mixin\u001b[0m | \u001b[32mFilling register gs with 4 unconstrained bytes referenced from 0x0 (not part of a loaded object)\u001b[0m\n",
      "N/A% |                                   | Elapsed Time: 0:00:00 ETA:  --:--:--WARNING | 2021-02-24 17:56:36,314 | \u001b[32mangr.storage.memory_mixins.default_filler_mixin\u001b[0m | \u001b[32mFilling register eax with 4 unconstrained bytes referenced from 0x80484fb (_start+0x8 in specrand_base.i386 (0x80484fb))\u001b[0m\n",
      "WARNING | 2021-02-24 17:56:36,316 | \u001b[32mangr.storage.memory_mixins.default_filler_mixin\u001b[0m | \u001b[32mFilling register edx with 4 unconstrained bytes referenced from 0x80484fd (_start+0xa in specrand_base.i386 (0x80484fd))\u001b[0m\n",
      "100% |###################################| Elapsed Time: 0:00:00 Time:  0:00:00\n",
      "WARNING | 2021-02-24 17:56:36,677 | \u001b[34mangr.analyses.cfg.cfg_fast\u001b[0m | \u001b[34m\"collect_data_references\" is deprecated and will be removed soon. Please use \"data_references\" instead\u001b[0m\n",
      "WARNING | 2021-02-24 17:56:36,680 | \u001b[32mangr.storage.memory_mixins.default_filler_mixin\u001b[0m | \u001b[32mFilling register es with 4 unconstrained bytes referenced from 0x0 (not part of a loaded object)\u001b[0m\n",
      "WARNING | 2021-02-24 17:56:36,681 | \u001b[32mangr.storage.memory_mixins.default_filler_mixin\u001b[0m | \u001b[32mFilling register gs with 4 unconstrained bytes referenced from 0x0 (not part of a loaded object)\u001b[0m\n",
      "N/A% |                                   | Elapsed Time: 0:00:00 ETA:  --:--:--WARNING | 2021-02-24 17:56:36,722 | \u001b[32mangr.storage.memory_mixins.default_filler_mixin\u001b[0m | \u001b[32mFilling register eax with 4 unconstrained bytes referenced from 0x80484fb (_start+0x8 in specrand_base.i386 (0x80484fb))\u001b[0m\n",
      "WARNING | 2021-02-24 17:56:36,724 | \u001b[32mangr.storage.memory_mixins.default_filler_mixin\u001b[0m | \u001b[32mFilling register edx with 4 unconstrained bytes referenced from 0x80484fd (_start+0xa in specrand_base.i386 (0x80484fd))\u001b[0m\n",
      "100% |###################################| Elapsed Time: 0:00:00 Time:  0:00:00\n",
      "WARNING | 2021-02-24 17:56:37,145 | \u001b[34mangr.analyses.cfg.cfg_fast\u001b[0m | \u001b[34m\"collect_data_references\" is deprecated and will be removed soon. Please use \"data_references\" instead\u001b[0m\n",
      "WARNING | 2021-02-24 17:56:37,147 | \u001b[32mangr.storage.memory_mixins.default_filler_mixin\u001b[0m | \u001b[32mFilling register es with 4 unconstrained bytes referenced from 0x0 (not part of a loaded object)\u001b[0m\n",
      "WARNING | 2021-02-24 17:56:37,148 | \u001b[32mangr.storage.memory_mixins.default_filler_mixin\u001b[0m | \u001b[32mFilling register gs with 4 unconstrained bytes referenced from 0x0 (not part of a loaded object)\u001b[0m\n",
      "N/A% |                                   | Elapsed Time: 0:00:00 ETA:  --:--:--WARNING | 2021-02-24 17:56:37,188 | \u001b[32mangr.storage.memory_mixins.default_filler_mixin\u001b[0m | \u001b[32mFilling register eax with 4 unconstrained bytes referenced from 0x80484fb (_start+0x8 in specrand_base.i386 (0x80484fb))\u001b[0m\n",
      "WARNING | 2021-02-24 17:56:37,189 | \u001b[32mangr.storage.memory_mixins.default_filler_mixin\u001b[0m | \u001b[32mFilling register edx with 4 unconstrained bytes referenced from 0x80484fd (_start+0xa in specrand_base.i386 (0x80484fd))\u001b[0m\n",
      "100% |###################################| Elapsed Time: 0:00:00 Time:  0:00:00\n",
      "WARNING | 2021-02-24 17:56:37,487 | \u001b[34mangr.analyses.cfg.cfg_fast\u001b[0m | \u001b[34m\"collect_data_references\" is deprecated and will be removed soon. Please use \"data_references\" instead\u001b[0m\n",
      "WARNING | 2021-02-24 17:56:37,489 | \u001b[32mangr.storage.memory_mixins.default_filler_mixin\u001b[0m | \u001b[32mFilling register es with 4 unconstrained bytes referenced from 0x0 (not part of a loaded object)\u001b[0m\n",
      "WARNING | 2021-02-24 17:56:37,491 | \u001b[32mangr.storage.memory_mixins.default_filler_mixin\u001b[0m | \u001b[32mFilling register gs with 4 unconstrained bytes referenced from 0x0 (not part of a loaded object)\u001b[0m\n",
      "N/A% |                                   | Elapsed Time: 0:00:00 ETA:  --:--:--WARNING | 2021-02-24 17:56:37,531 | \u001b[32mangr.storage.memory_mixins.default_filler_mixin\u001b[0m | \u001b[32mFilling register eax with 4 unconstrained bytes referenced from 0x80484fb (_start+0x8 in specrand_base.i386 (0x80484fb))\u001b[0m\n",
      "WARNING | 2021-02-24 17:56:37,533 | \u001b[32mangr.storage.memory_mixins.default_filler_mixin\u001b[0m | \u001b[32mFilling register edx with 4 unconstrained bytes referenced from 0x80484fd (_start+0xa in specrand_base.i386 (0x80484fd))\u001b[0m\n",
      "100% |###################################| Elapsed Time: 0:00:00 Time:  0:00:00\n"
     ]
    }
   ],
   "source": [
    "for format in formats:\n",
    "    cfg_explore(binary='./specrand_base.i386',output='./test.'+format)"
   ]
  },
  {
   "cell_type": "markdown",
   "metadata": {},
   "source": [
    "View the output `png`:\n",
    "\n",
    "![](test.png)"
   ]
  },
  {
   "cell_type": "markdown",
   "metadata": {
    "pycharm": {
     "name": "#%% md\n"
    }
   },
   "source": [
    "### Traversal a large folder to generate all CFGs\n",
    "\n",
    "We still use `m2s-bench-spec2006` as an example.\n",
    "\n",
    "Assume that we need to analyze all binary files in this folder. Wrapping `cfg-explorer` as a function makes the task more flexible inside a Python script.\n",
    "\n",
    "First, get all potential binary files for analysis:"
   ]
  },
  {
   "cell_type": "code",
   "execution_count": 8,
   "metadata": {
    "ExecuteTime": {
     "end_time": "2020-08-08T00:26:39.048790Z",
     "start_time": "2020-08-08T00:26:39.034459Z"
    }
   },
   "outputs": [
    {
     "data": {
      "text/plain": [
       "['../../m2s-bench-spec2006/401.bzip2/bzip2_base.i386',\n",
       " '../../m2s-bench-spec2006/403.gcc/gcc_base.i386',\n",
       " '../../m2s-bench-spec2006/410.bwaves/bwaves_base.i386',\n",
       " '../../m2s-bench-spec2006/416.gamess/gamess_base.i386',\n",
       " '../../m2s-bench-spec2006/429.mcf/mcf_base.i386',\n",
       " '../../m2s-bench-spec2006/433.milc/milc_base.i386',\n",
       " '../../m2s-bench-spec2006/434.zeusmp/zeusmp_base.i386',\n",
       " '../../m2s-bench-spec2006/435.gromacs/gromacs_base.i386',\n",
       " '../../m2s-bench-spec2006/436.cactusADM/cactusADM_base.i386',\n",
       " '../../m2s-bench-spec2006/437.leslie3d/leslie3d_base.i386',\n",
       " '../../m2s-bench-spec2006/444.namd/namd_base.i386',\n",
       " '../../m2s-bench-spec2006/445.gobmk/gobmk_base.i386',\n",
       " '../../m2s-bench-spec2006/447.dealII/dealII_base.i386',\n",
       " '../../m2s-bench-spec2006/450.soplex/soplex_base.i386',\n",
       " '../../m2s-bench-spec2006/453.povray/povray_base.i386',\n",
       " '../../m2s-bench-spec2006/454.calculix/calculix_base.i386',\n",
       " '../../m2s-bench-spec2006/456.hmmer/hmmer_base.i386',\n",
       " '../../m2s-bench-spec2006/458.sjeng/sjeng_base.i386',\n",
       " '../../m2s-bench-spec2006/459.GemsFDTD/GemsFDTD_base.i386',\n",
       " '../../m2s-bench-spec2006/462.libquantum/libquantum_base.i386',\n",
       " '../../m2s-bench-spec2006/464.h264ref/h264ref_base.i386',\n",
       " '../../m2s-bench-spec2006/465.tonto/tonto_base.i386',\n",
       " '../../m2s-bench-spec2006/470.lbm/lbm_base.i386',\n",
       " '../../m2s-bench-spec2006/471.omnetpp/omnetpp_base.i386',\n",
       " '../../m2s-bench-spec2006/473.astar/astar_base.i386',\n",
       " '../../m2s-bench-spec2006/481.wrf/wrf_base.i386',\n",
       " '../../m2s-bench-spec2006/482.sphinx3/sphinx3_base.i386',\n",
       " '../../m2s-bench-spec2006/483.xalancbmk/xalancbmk_base.i386',\n",
       " '../../m2s-bench-spec2006/998.specrand/specrand_base.i386',\n",
       " '../../m2s-bench-spec2006/999.specrand/specrand_base.i386']"
      ]
     },
     "execution_count": 8,
     "metadata": {},
     "output_type": "execute_result"
    }
   ],
   "source": [
    "from glob import glob\n",
    "progs = sorted(glob('../../m2s-bench-spec2006/*/*.i386'))\n",
    "progs"
   ]
  },
  {
   "cell_type": "code",
   "execution_count": 9,
   "metadata": {
    "ExecuteTime": {
     "end_time": "2020-08-08T00:26:39.735328Z",
     "start_time": "2020-08-08T00:26:39.731962Z"
    }
   },
   "outputs": [],
   "source": [
    "# create a directory to store the outputs\n",
    "out_dir = './output'\n",
    "if not os.path.exists(out_dir):\n",
    "    os.mkdir(out_dir)"
   ]
  },
  {
   "cell_type": "markdown",
   "metadata": {
    "pycharm": {
     "name": "#%% md\n"
    }
   },
   "source": [
    "Then, we can simply call `cfg_explore` function inside loops. Keep it alone, we just need to wait for generating all '.svg' files.\n",
    "\n",
    "**Note**: it might take a extremely long time. Be patient."
   ]
  },
  {
   "cell_type": "code",
   "execution_count": 10,
   "metadata": {
    "ExecuteTime": {
     "end_time": "2020-08-08T00:26:41.230988Z",
     "start_time": "2020-08-08T00:26:41.213661Z"
    },
    "scrolled": false
   },
   "outputs": [
    {
     "name": "stdout",
     "output_type": "stream",
     "text": [
      "start analysis of: 401.bzip2\n",
      "start analysis of: 403.gcc\n",
      "start analysis of: 410.bwaves\n",
      "start analysis of: 416.gamess\n",
      "start analysis of: 429.mcf\n",
      "start analysis of: 433.milc\n",
      "start analysis of: 434.zeusmp\n",
      "start analysis of: 435.gromacs\n",
      "start analysis of: 436.cactusADM\n",
      "start analysis of: 437.leslie3d\n",
      "start analysis of: 444.namd\n",
      "start analysis of: 445.gobmk\n",
      "start analysis of: 447.dealII\n",
      "start analysis of: 450.soplex\n",
      "start analysis of: 453.povray\n",
      "start analysis of: 454.calculix\n",
      "start analysis of: 456.hmmer\n",
      "start analysis of: 458.sjeng\n",
      "start analysis of: 459.GemsFDTD\n",
      "start analysis of: 462.libquantum\n",
      "start analysis of: 464.h264ref\n",
      "start analysis of: 465.tonto\n",
      "start analysis of: 470.lbm\n",
      "start analysis of: 471.omnetpp\n",
      "start analysis of: 473.astar\n",
      "start analysis of: 481.wrf\n",
      "start analysis of: 482.sphinx3\n",
      "start analysis of: 483.xalancbmk\n",
      "start analysis of: 998.specrand\n",
      "start analysis of: 999.specrand\n"
     ]
    }
   ],
   "source": [
    "for p in progs:\n",
    "    name = p.split('/')[3]\n",
    "    print('start analysis of:',name)\n",
    "    output_file = os.path.join(out_dir, name + '.svg')\n",
    "    if not os.path.exists(output_file):\n",
    "        cfg_explore(binary=p,output=output_file)"
   ]
  },
  {
   "cell_type": "markdown",
   "metadata": {
    "pycharm": {
     "name": "#%% md\n"
    }
   },
   "source": [
    "Now, you can view all outputs in `out_dir`.\n",
    "\n"
   ]
  },
  {
   "source": [
    "# Get output files for more than one functions at once\n",
    "\n",
    "If `output` is specified as a non-empty and valid filename, you can analyze CFG with multiple start addresses by passing an address list to `starts`. Addresses can also be specified as symbol names (e.g. function name) used in source codes in the binary.\n",
    "\n",
    "For example, now, we are going to get all function names in `specrand_base.i386`:\n",
    "\n"
   ],
   "cell_type": "markdown",
   "metadata": {}
  },
  {
   "cell_type": "code",
   "execution_count": 8,
   "metadata": {},
   "outputs": [],
   "source": [
    "import angr"
   ]
  },
  {
   "cell_type": "code",
   "execution_count": 11,
   "metadata": {},
   "outputs": [
    {
     "output_type": "stream",
     "name": "stderr",
     "text": [
      "CRITICAL | 2021-02-24 18:07:13,165 | \u001b[37mangr.analyses.identifier.identify\u001b[0m | \u001b[37mThe identifier currently works only on CGC binaries. Results may be completely unexpected.\u001b[0m\n",
      "WARNING | 2021-02-24 18:07:13,168 | \u001b[32mangr.storage.memory_mixins.default_filler_mixin\u001b[0m | \u001b[32mFilling register es with 4 unconstrained bytes referenced from 0x0 (not part of a loaded object)\u001b[0m\n",
      "WARNING | 2021-02-24 18:07:13,169 | \u001b[32mangr.storage.memory_mixins.default_filler_mixin\u001b[0m | \u001b[32mFilling register gs with 4 unconstrained bytes referenced from 0x0 (not part of a loaded object)\u001b[0m\n",
      "WARNING | 2021-02-24 18:07:13,211 | \u001b[32mangr.storage.memory_mixins.default_filler_mixin\u001b[0m | \u001b[32mFilling register eax with 4 unconstrained bytes referenced from 0x80484fb (_start+0x8 in specrand_base.i386 (0x80484fb))\u001b[0m\n",
      "WARNING | 2021-02-24 18:07:13,212 | \u001b[32mangr.storage.memory_mixins.default_filler_mixin\u001b[0m | \u001b[32mFilling register edx with 4 unconstrained bytes referenced from 0x80484fd (_start+0xa in specrand_base.i386 (0x80484fd))\u001b[0m\n",
      "WARNING | 2021-02-24 18:07:13,822 | \u001b[32mangr.storage.memory_mixins.default_filler_mixin\u001b[0m | \u001b[32mFilling register mm0 with 8 unconstrained bytes referenced from 0x804844f (main+0xaf in specrand_base.i386 (0x804844f))\u001b[0m\n",
      "['_init', 'puts', 'sub_8048356', '__gmon_start__', '__libc_start_main', '__printf_chk', 'strtol', 'main', 'deregister_tm_clones', 'register_tm_clones', '__do_global_dtors_aux', 'frame_dummy', '__libc_csu_init']\n"
     ]
    }
   ],
   "source": [
    "proj = angr.Project('./specrand_base.i386',load_options={'auto_load_libs': False})\n",
    "idfer = proj.analyses.Identifier()\n",
    "names = [funcInfo.name for funcInfo in idfer.func_info]\n",
    "print(names)"
   ]
  },
  {
   "source": [
    "The CFG of those functions should be exported to a folder called `spec_func`"
   ],
   "cell_type": "markdown",
   "metadata": {}
  },
  {
   "cell_type": "code",
   "execution_count": 12,
   "metadata": {},
   "outputs": [],
   "source": [
    "dir = './spec_func/'\n",
    "if not os.path.exists(dir):\n",
    "    os.mkdir(dir)"
   ]
  },
  {
   "source": [
    "Then, analyze all those functions above:"
   ],
   "cell_type": "markdown",
   "metadata": {}
  },
  {
   "cell_type": "code",
   "execution_count": 14,
   "metadata": {},
   "outputs": [
    {
     "output_type": "stream",
     "name": "stderr",
     "text": [
      "WARNING | 2021-02-24 18:12:54,615 | \u001b[35maxt.cfgexplorer\u001b[0m | \u001b[35mStarting address unrecognized sub_8048356\u001b[0m\n",
      "WARNING | 2021-02-24 18:12:54,618 | \u001b[34mangr.analyses.cfg.cfg_fast\u001b[0m | \u001b[34m\"collect_data_references\" is deprecated and will be removed soon. Please use \"data_references\" instead\u001b[0m\n",
      "WARNING | 2021-02-24 18:12:54,620 | \u001b[32mangr.storage.memory_mixins.default_filler_mixin\u001b[0m | \u001b[32mFilling register es with 4 unconstrained bytes referenced from 0x0 (not part of a loaded object)\u001b[0m\n",
      "WARNING | 2021-02-24 18:12:54,622 | \u001b[32mangr.storage.memory_mixins.default_filler_mixin\u001b[0m | \u001b[32mFilling register gs with 4 unconstrained bytes referenced from 0x0 (not part of a loaded object)\u001b[0m\n",
      "100% |###################################| Elapsed Time: 0:00:00 Time:  0:00:00\n"
     ]
    }
   ],
   "source": [
    "cfg_explore(binary='./specrand_base.i386',output=os.path.join(dir,'./test.svg'),starts=names)"
   ]
  },
  {
   "source": [
    "Some of them may not have a plotable CFG to export, thus all CFGs derived from the binary are:\n"
   ],
   "cell_type": "markdown",
   "metadata": {}
  },
  {
   "cell_type": "code",
   "execution_count": 15,
   "metadata": {},
   "outputs": [
    {
     "output_type": "stream",
     "name": "stdout",
     "text": [
      "test-deregister_tm_clones.svg\ttest-__libc_csu_init.svg\ntest-__do_global_dtors_aux.svg\ttest-main.svg\ntest-frame_dummy.svg\t\ttest-register_tm_clones.svg\ntest-_init.svg\t\t\ttest.svg\n"
     ]
    }
   ],
   "source": [
    "!ls {dir}"
   ]
  },
  {
   "cell_type": "code",
   "execution_count": null,
   "metadata": {},
   "outputs": [],
   "source": []
  }
 ],
 "metadata": {
  "jupytext": {
   "formats": "ipynb,py:light"
  },
  "kernelspec": {
   "name": "python3",
   "display_name": "Python 3.7.9 64-bit ('verdict': conda)",
   "metadata": {
    "interpreter": {
     "hash": "0c4f7cf85f777c4c43ecd0f6373224b76357be397e67473060c5e9d8361e7517"
    }
   }
  },
  "language_info": {
   "codemirror_mode": {
    "name": "ipython",
    "version": 3
   },
   "file_extension": ".py",
   "mimetype": "text/x-python",
   "name": "python",
   "nbconvert_exporter": "python",
   "pygments_lexer": "ipython3",
   "version": "3.7.9-final"
  },
  "latex_envs": {
   "LaTeX_envs_menu_present": true,
   "autoclose": false,
   "autocomplete": true,
   "bibliofile": "biblio.bib",
   "cite_by": "apalike",
   "current_citInitial": 1,
   "eqLabelWithNumbers": true,
   "eqNumInitial": 1,
   "hotkeys": {
    "equation": "Ctrl-E",
    "itemize": "Ctrl-I"
   },
   "labels_anchors": false,
   "latex_user_defs": false,
   "report_style_numbering": false,
   "user_envs_cfg": false
  },
  "pycharm": {
   "stem_cell": {
    "cell_type": "raw",
    "metadata": {
     "collapsed": false
    },
    "source": []
   }
  },
  "toc": {
   "base_numbering": 1,
   "nav_menu": {},
   "number_sections": true,
   "sideBar": true,
   "skip_h1_title": false,
   "title_cell": "Table of Contents",
   "title_sidebar": "Contents",
   "toc_cell": false,
   "toc_position": {},
   "toc_section_display": true,
   "toc_window_display": true
  },
  "varInspector": {
   "cols": {
    "lenName": 16,
    "lenType": 16,
    "lenVar": 40
   },
   "kernels_config": {
    "python": {
     "delete_cmd_postfix": "",
     "delete_cmd_prefix": "del ",
     "library": "var_list.py",
     "varRefreshCmd": "print(var_dic_list())"
    },
    "r": {
     "delete_cmd_postfix": ") ",
     "delete_cmd_prefix": "rm(",
     "library": "var_list.r",
     "varRefreshCmd": "cat(var_dic_list()) "
    }
   },
   "types_to_exclude": [
    "module",
    "function",
    "builtin_function_or_method",
    "instance",
    "_Feature"
   ],
   "window_display": false
  }
 },
 "nbformat": 4,
 "nbformat_minor": 4
}